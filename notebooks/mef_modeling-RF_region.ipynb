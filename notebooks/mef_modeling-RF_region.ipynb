{
 "cells": [
  {
   "cell_type": "code",
   "execution_count": 19,
   "metadata": {},
   "outputs": [
    {
     "name": "stdout",
     "output_type": "stream",
     "text": [
      "The autoreload extension is already loaded. To reload it, use:\n",
      "  %reload_ext autoreload\n"
     ]
    }
   ],
   "source": [
    "import pandas as pd\n",
    "import numpy as np\n",
    "import seaborn as sns\n",
    "import matplotlib.pyplot as plt\n",
    "%matplotlib inline\n",
    "from sklearn import preprocessing\n",
    "from sklearn.preprocessing import StandardScaler\n",
    "from sklearn.linear_model import Ridge, LogisticRegression\n",
    "from sklearn.linear_model import Lasso\n",
    "from sklearn.ensemble import RandomForestClassifier\n",
    "from sklearn.neighbors import KNeighborsClassifier\n",
    "from sklearn import metrics\n",
    "from sklearn.metrics import roc_curve, auc\n",
    "from sklearn.metrics import confusion_matrix, mean_squared_error, classification_report\n",
    "from sklearn.model_selection import train_test_split, GridSearchCV, cross_val_score\n",
    "from sklearn.tree import DecisionTreeClassifier\n",
    "from sklearn.metrics import accuracy_score, precision_score, recall_score, f1_score, roc_auc_score \n",
    "from sklearn.preprocessing import OneHotEncoder\n",
    "from sklearn.tree import DecisionTreeRegressor\n",
    "from sklearn.tree import DecisionTreeClassifier\n",
    "from sklearn.ensemble import BaggingRegressor, RandomForestRegressor, ExtraTreesRegressor\n",
    "from sklearn.pipeline import FeatureUnion, make_pipeline\n",
    "from sklearn.impute import MissingIndicator, SimpleImputer, KNNImputer\n",
    "from sklearn.model_selection import RepeatedStratifiedKFold, cross_val_score, cross_validate\n",
    "%load_ext autoreload\n",
    "%autoreload 2\n",
    "import os\n",
    "import sys\n",
    "module_path = os.path.abspath(os.path.join(os.pardir, os.pardir))\n",
    "if module_path not in sys.path:\n",
    "    sys.path.append(module_path)"
   ]
  },
  {
   "cell_type": "code",
   "execution_count": 20,
   "metadata": {},
   "outputs": [],
   "source": [
    "def plot_feature_importances(model):\n",
    "    n_features = X_train_processed.shape[1]\n",
    "    plt.figure(figsize=(12,50))\n",
    "    plt.barh(range(n_features), model.feature_importances_, align='edge') \n",
    "    plt.yticks(np.arange(n_features), X_train_processed.columns.values) \n",
    "    plt.xlabel('Feature importance')\n",
    "    plt.ylabel('Feature')\n",
    "\n"
   ]
  },
  {
   "cell_type": "code",
   "execution_count": 21,
   "metadata": {},
   "outputs": [],
   "source": [
    "def evaluation(y, y_hat, title = 'Confusion Matrix'):\n",
    "    '''takes in true values and predicted values.\n",
    "    The function then prints out a classifcation report\n",
    "    as well as a confusion matrix using seaborn's heatmap.'''\n",
    "    cm = confusion_matrix(y, y_hat)\n",
    "    precision = precision_score(y, y_hat, average = 'weighted')\n",
    "    recall = recall_score(y, y_hat, average = 'weighted')\n",
    "    accuracy = accuracy_score(y,y_hat)\n",
    "    print(classification_report(y, y_hat))\n",
    "    print('Accurancy: ', accuracy)\n",
    "    sns.heatmap(cm,  cmap= 'Greens', annot=True)\n",
    "    plt.xlabel('predicted')\n",
    "    plt.ylabel('actual')\n",
    "    plt.title(title)\n",
    "    plt.show()"
   ]
  },
  {
   "cell_type": "code",
   "execution_count": 22,
   "metadata": {},
   "outputs": [],
   "source": [
    "# train = f.load_processed_train_df()\n",
    "# test = f.load_test_df()\n",
    "train = pd.read_csv('../data/processed_data.csv')\n",
    "train.permit = train.permit.astype(str)"
   ]
  },
  {
   "cell_type": "code",
   "execution_count": 122,
   "metadata": {},
   "outputs": [
    {
     "name": "stdout",
     "output_type": "stream",
     "text": [
      "<class 'pandas.core.frame.DataFrame'>\n",
      "RangeIndex: 59400 entries, 0 to 59399\n",
      "Data columns (total 43 columns):\n",
      " #   Column                        Non-Null Count  Dtype  \n",
      "---  ------                        --------------  -----  \n",
      " 0   Unnamed: 0                    59400 non-null  int64  \n",
      " 1   id                            59400 non-null  int64  \n",
      " 2   amount_tsh                    59400 non-null  float64\n",
      " 3   date_recorded                 59400 non-null  object \n",
      " 4   gps_height                    59400 non-null  int64  \n",
      " 5   longitude                     59400 non-null  float64\n",
      " 6   latitude                      59400 non-null  float64\n",
      " 7   wpt_name                      59400 non-null  object \n",
      " 8   num_private                   59400 non-null  int64  \n",
      " 9   basin                         59400 non-null  object \n",
      " 10  subvillage                    59029 non-null  object \n",
      " 11  district_code                 59400 non-null  int64  \n",
      " 12  ward                          59400 non-null  object \n",
      " 13  population                    59400 non-null  int64  \n",
      " 14  public_meeting                59400 non-null  object \n",
      " 15  recorded_by                   59400 non-null  object \n",
      " 16  scheme_name                   31234 non-null  object \n",
      " 17  permit                        59400 non-null  object \n",
      " 18  management_group              59400 non-null  object \n",
      " 19  payment                       59400 non-null  object \n",
      " 20  payment_type                  59400 non-null  object \n",
      " 21  water_quality                 59400 non-null  object \n",
      " 22  quality_group                 59400 non-null  object \n",
      " 23  quantity                      59400 non-null  object \n",
      " 24  quantity_group                59400 non-null  object \n",
      " 25  source                        59400 non-null  object \n",
      " 26  source_type                   59400 non-null  object \n",
      " 27  source_class                  59400 non-null  object \n",
      " 28  status_group                  59400 non-null  object \n",
      " 29  status                        59400 non-null  int64  \n",
      " 30  extraction_type/group/class   59400 non-null  object \n",
      " 31  scheme_management/management  59400 non-null  object \n",
      " 32  funder/installer              59400 non-null  object \n",
      " 33  waterpoint_type/group         59400 non-null  object \n",
      " 34  2000-2010                     59400 non-null  float64\n",
      " 35  1990-2000                     59400 non-null  float64\n",
      " 36  1980-1990                     59400 non-null  float64\n",
      " 37  2010-2020                     59400 non-null  float64\n",
      " 38  1970-1980                     59400 non-null  float64\n",
      " 39  1960-1970                     59400 non-null  float64\n",
      " 40  construction_year             59400 non-null  float64\n",
      " 41  region_bins                   59400 non-null  int64  \n",
      " 42  lga_coded                     59400 non-null  object \n",
      "dtypes: float64(10), int64(8), object(25)\n",
      "memory usage: 19.5+ MB\n"
     ]
    }
   ],
   "source": [
    "train.info()"
   ]
  },
  {
   "cell_type": "code",
   "execution_count": 138,
   "metadata": {},
   "outputs": [],
   "source": [
    "X = train.drop(['id', 'status_group', 'status', 'date_recorded'], axis=1)\n",
    "y = train.status\n",
    "X_train, X_test, y_train, y_test = train_test_split(X, y, random_state=42)"
   ]
  },
  {
   "cell_type": "code",
   "execution_count": 139,
   "metadata": {},
   "outputs": [],
   "source": [
    "ohe_features = ['funder/installer',\n",
    "               'scheme_management/management', 'permit', \n",
    "               'extraction_type/group/class', 'management_group',\n",
    "               'payment']"
   ]
  },
  {
   "cell_type": "code",
   "execution_count": 140,
   "metadata": {},
   "outputs": [],
   "source": [
    "cont_features = ['population',\n",
    "                 'construction_year']\n",
    "\n",
    "decade_features = []"
   ]
  },
  {
   "cell_type": "code",
   "execution_count": 141,
   "metadata": {},
   "outputs": [],
   "source": [
    "X_train_ohe = X_train[ohe_features]\n",
    "X_test_ohe = X_test[ohe_features]\n",
    "X_train_cont = X_train[cont_features].astype(float)\n",
    "X_test_cont = X_test[cont_features].astype(float)"
   ]
  },
  {
   "cell_type": "code",
   "execution_count": 142,
   "metadata": {},
   "outputs": [],
   "source": [
    "X_train_index = X_train.index\n",
    "X_test_index = X_test.index"
   ]
  },
  {
   "cell_type": "code",
   "execution_count": 143,
   "metadata": {},
   "outputs": [],
   "source": [
    "ohe = OneHotEncoder(handle_unknown='ignore')\n",
    "ss = StandardScaler()\n",
    "X_train_encoded = ohe.fit_transform(X_train_ohe)\n",
    "X_test_encoded = ohe.transform(X_test_ohe)\n",
    "X_train_scaled = pd.DataFrame(ss.fit_transform(X_train_cont), columns=X_train[cont_features].columns, index=X_train_index)\n",
    "X_test_scaled = pd.DataFrame(ss.transform(X_test_cont), columns=X_test[cont_features].columns, index=X_test_index)"
   ]
  },
  {
   "cell_type": "code",
   "execution_count": 144,
   "metadata": {},
   "outputs": [],
   "source": [
    "train_columns = ohe.get_feature_names(input_features=X_train_ohe.columns)\n",
    "test_columns = ohe.get_feature_names(input_features=X_test_ohe.columns)\n",
    "X_train_processed = pd.DataFrame(X_train_encoded.todense(), columns=train_columns, index=X_train_index)\n",
    "X_test_processed = pd.DataFrame(X_test_encoded.todense(), columns=test_columns, index=X_test_index)"
   ]
  },
  {
   "cell_type": "code",
   "execution_count": 145,
   "metadata": {},
   "outputs": [],
   "source": [
    "X_train_all = pd.concat([X_train_scaled, X_train_processed], axis=1)\n",
    "X_test_all = pd.concat([X_test_scaled, X_test_processed], axis=1)\n"
   ]
  },
  {
   "cell_type": "code",
   "execution_count": 146,
   "metadata": {},
   "outputs": [],
   "source": [
    "X_train_all = X_train_all.join(X_train[decade_features])\n",
    "X_test_all = X_test_all.join(X_test[decade_features])"
   ]
  },
  {
   "cell_type": "code",
   "execution_count": 147,
   "metadata": {},
   "outputs": [
    {
     "data": {
      "text/plain": [
       "Series([], dtype: int64)"
      ]
     },
     "execution_count": 147,
     "metadata": {},
     "output_type": "execute_result"
    }
   ],
   "source": [
    "X_train_all.isna().sum()[X_train_all.isna().sum()>0]"
   ]
  },
  {
   "cell_type": "code",
   "execution_count": 148,
   "metadata": {},
   "outputs": [
    {
     "name": "stdout",
     "output_type": "stream",
     "text": [
      "<class 'pandas.core.frame.DataFrame'>\n",
      "Int64Index: 14850 entries, 2980 to 1888\n",
      "Columns: 105 entries, population to payment_unknown\n",
      "dtypes: float64(105)\n",
      "memory usage: 12.6 MB\n"
     ]
    }
   ],
   "source": [
    "X_test_all.info()"
   ]
  },
  {
   "cell_type": "code",
   "execution_count": 149,
   "metadata": {},
   "outputs": [],
   "source": [
    "rf_no_regional = RandomForestClassifier()"
   ]
  },
  {
   "cell_type": "code",
   "execution_count": 150,
   "metadata": {},
   "outputs": [
    {
     "data": {
      "text/plain": [
       "RandomForestClassifier()"
      ]
     },
     "execution_count": 150,
     "metadata": {},
     "output_type": "execute_result"
    }
   ],
   "source": [
    "rf_no_regional.fit(X_train_all, y_train)"
   ]
  },
  {
   "cell_type": "code",
   "execution_count": 151,
   "metadata": {},
   "outputs": [
    {
     "name": "stdout",
     "output_type": "stream",
     "text": [
      "              precision    recall  f1-score   support\n",
      "\n",
      "           0       0.89      0.82      0.85     17146\n",
      "           1       0.83      0.59      0.69      3243\n",
      "           2       0.85      0.93      0.89     24161\n",
      "\n",
      "    accuracy                           0.86     44550\n",
      "   macro avg       0.86      0.78      0.81     44550\n",
      "weighted avg       0.87      0.86      0.86     44550\n",
      "\n",
      "Accurancy:  0.8645791245791246\n"
     ]
    },
    {
     "data": {
      "image/png": "[encoded data removed]",
      "text/plain": [
       "<Figure size 432x288 with 2 Axes>"
      ]
     },
     "metadata": {
      "needs_background": "light"
     },
     "output_type": "display_data"
    }
   ],
   "source": [
    "evaluation(y_train, rf_no_regional.predict(X_train_all))"
   ]
  },
  {
   "cell_type": "code",
   "execution_count": 152,
   "metadata": {},
   "outputs": [
    {
     "name": "stdout",
     "output_type": "stream",
     "text": [
      "              precision    recall  f1-score   support\n",
      "\n",
      "           0       0.73      0.67      0.70      5678\n",
      "           1       0.42      0.27      0.33      1074\n",
      "           2       0.74      0.82      0.78      8098\n",
      "\n",
      "    accuracy                           0.72     14850\n",
      "   macro avg       0.63      0.59      0.60     14850\n",
      "weighted avg       0.71      0.72      0.71     14850\n",
      "\n",
      "Accurancy:  0.7210774410774411\n"
     ]
    },
    {
     "data": {
      "image/png": "[encoded data removed]",
      "text/plain": [
       "<Figure size 432x288 with 2 Axes>"
      ]
     },
     "metadata": {
      "needs_background": "light"
     },
     "output_type": "display_data"
    }
   ],
   "source": [
    "evaluation(y_test, rf_no_regional.predict(X_test_all))"
   ]
  },
  {
   "cell_type": "markdown",
   "metadata": {},
   "source": [
    "# With Geographic"
   ]
  },
  {
   "cell_type": "code",
   "execution_count": 153,
   "metadata": {},
   "outputs": [],
   "source": [
    "ohe_features = ['funder/installer', 'region_bins', 'district_code',\n",
    "                'lga_coded',\n",
    "               'scheme_management/management', 'permit', \n",
    "               'extraction_type/group/class', 'management_group',\n",
    "               'payment']"
   ]
  },
  {
   "cell_type": "code",
   "execution_count": 154,
   "metadata": {},
   "outputs": [],
   "source": [
    "cont_features = ['gps_height', 'population',\n",
    "                 'construction_year']\n",
    "\n",
    "decade_features = []"
   ]
  },
  {
   "cell_type": "code",
   "execution_count": 155,
   "metadata": {},
   "outputs": [],
   "source": [
    "X_train_ohe = X_train[ohe_features]\n",
    "X_test_ohe = X_test[ohe_features]\n",
    "X_train_cont = X_train[cont_features].astype(float)\n",
    "X_test_cont = X_test[cont_features].astype(float)"
   ]
  },
  {
   "cell_type": "code",
   "execution_count": 156,
   "metadata": {},
   "outputs": [],
   "source": [
    "ohe = OneHotEncoder(handle_unknown='ignore')\n",
    "ss = StandardScaler()\n",
    "X_train_encoded = ohe.fit_transform(X_train_ohe)\n",
    "X_test_encoded = ohe.transform(X_test_ohe)\n",
    "X_train_scaled = pd.DataFrame(ss.fit_transform(X_train_cont), columns=X_train[cont_features].columns, index=X_train_index)\n",
    "X_test_scaled = pd.DataFrame(ss.transform(X_test_cont), columns=X_test[cont_features].columns, index=X_test_index)"
   ]
  },
  {
   "cell_type": "code",
   "execution_count": 157,
   "metadata": {},
   "outputs": [],
   "source": [
    "train_columns = ohe.get_feature_names(input_features=X_train_ohe.columns)\n",
    "test_columns = ohe.get_feature_names(input_features=X_test_ohe.columns)\n",
    "X_train_processed = pd.DataFrame(X_train_encoded.todense(), columns=train_columns, index=X_train_index)\n",
    "X_test_processed = pd.DataFrame(X_test_encoded.todense(), columns=test_columns, index=X_test_index)"
   ]
  },
  {
   "cell_type": "code",
   "execution_count": 158,
   "metadata": {},
   "outputs": [],
   "source": [
    "X_train_all = pd.concat([X_train_scaled, X_train_processed], axis=1)\n",
    "X_test_all = pd.concat([X_test_scaled, X_test_processed], axis=1)\n"
   ]
  },
  {
   "cell_type": "code",
   "execution_count": 159,
   "metadata": {},
   "outputs": [],
   "source": [
    "X_train_all = X_train_all.join(X_train[decade_features])\n",
    "X_test_all = X_test_all.join(X_test[decade_features])"
   ]
  },
  {
   "cell_type": "code",
   "execution_count": 160,
   "metadata": {},
   "outputs": [
    {
     "data": {
      "text/plain": [
       "Series([], dtype: int64)"
      ]
     },
     "execution_count": 160,
     "metadata": {},
     "output_type": "execute_result"
    }
   ],
   "source": [
    "X_train_all.isna().sum()[X_train_all.isna().sum()>0]"
   ]
  },
  {
   "cell_type": "code",
   "execution_count": 161,
   "metadata": {},
   "outputs": [
    {
     "name": "stdout",
     "output_type": "stream",
     "text": [
      "<class 'pandas.core.frame.DataFrame'>\n",
      "Int64Index: 14850 entries, 2980 to 1888\n",
      "Columns: 136 entries, gps_height to payment_unknown\n",
      "dtypes: float64(136)\n",
      "memory usage: 16.1 MB\n"
     ]
    }
   ],
   "source": [
    "X_test_all.info()"
   ]
  },
  {
   "cell_type": "code",
   "execution_count": 162,
   "metadata": {},
   "outputs": [],
   "source": [
    "rf_regional = RandomForestClassifier()"
   ]
  },
  {
   "cell_type": "code",
   "execution_count": 163,
   "metadata": {},
   "outputs": [
    {
     "data": {
      "text/plain": [
       "RandomForestClassifier()"
      ]
     },
     "execution_count": 163,
     "metadata": {},
     "output_type": "execute_result"
    }
   ],
   "source": [
    "rf_regional.fit(X_train_all, y_train)"
   ]
  },
  {
   "cell_type": "code",
   "execution_count": 164,
   "metadata": {},
   "outputs": [
    {
     "name": "stdout",
     "output_type": "stream",
     "text": [
      "              precision    recall  f1-score   support\n",
      "\n",
      "           0       0.94      0.89      0.91     17146\n",
      "           1       0.87      0.75      0.81      3243\n",
      "           2       0.91      0.96      0.93     24161\n",
      "\n",
      "    accuracy                           0.92     44550\n",
      "   macro avg       0.91      0.87      0.88     44550\n",
      "weighted avg       0.92      0.92      0.92     44550\n",
      "\n",
      "Accurancy:  0.9168574635241302\n"
     ]
    },
    {
     "data": {
      "image/png": "[encoded data removed]",
      "text/plain": [
       "<Figure size 432x288 with 2 Axes>"
      ]
     },
     "metadata": {
      "needs_background": "light"
     },
     "output_type": "display_data"
    }
   ],
   "source": [
    "evaluation(y_train, rf_regional.predict(X_train_all))"
   ]
  },
  {
   "cell_type": "code",
   "execution_count": 165,
   "metadata": {},
   "outputs": [
    {
     "name": "stdout",
     "output_type": "stream",
     "text": [
      "              precision    recall  f1-score   support\n",
      "\n",
      "           0       0.74      0.70      0.72      5678\n",
      "           1       0.44      0.30      0.36      1074\n",
      "           2       0.76      0.82      0.79      8098\n",
      "\n",
      "    accuracy                           0.74     14850\n",
      "   macro avg       0.65      0.61      0.62     14850\n",
      "weighted avg       0.73      0.74      0.73     14850\n",
      "\n",
      "Accurancy:  0.7385185185185185\n"
     ]
    },
    {
     "data": {
      "image/png": "[encoded data removed]",
      "text/plain": [
       "<Figure size 432x288 with 2 Axes>"
      ]
     },
     "metadata": {
      "needs_background": "light"
     },
     "output_type": "display_data"
    }
   ],
   "source": [
    "evaluation(y_test, rf_regional.predict(X_test_all))"
   ]
  },
  {
   "cell_type": "code",
   "execution_count": null,
   "metadata": {},
   "outputs": [],
   "source": []
  }
 ],
 "metadata": {
  "kernelspec": {
   "display_name": "Python 3",
   "language": "python",
   "name": "python3"
  },
  "language_info": {
   "codemirror_mode": {
    "name": "ipython",
    "version": 3
   },
   "file_extension": ".py",
   "mimetype": "text/x-python",
   "name": "python",
   "nbconvert_exporter": "python",
   "pygments_lexer": "ipython3",
   "version": "3.8.3"
  }
 },
 "nbformat": 4,
 "nbformat_minor": 4
}
