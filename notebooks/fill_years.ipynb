{
 "cells": [
  {
   "cell_type": "code",
   "execution_count": 87,
   "metadata": {},
   "outputs": [
    {
     "name": "stdout",
     "output_type": "stream",
     "text": [
      "The autoreload extension is already loaded. To reload it, use:\n",
      "  %reload_ext autoreload\n"
     ]
    }
   ],
   "source": [
    "%load_ext autoreload\n",
    "%autoreload 2\n",
    "\n",
    "import os\n",
    "import sys\n",
    "\n",
    "module_path = os.path.abspath(os.pardir)\n",
    "if module_path not in sys.path:\n",
    "    sys.path.append(module_path)\n",
    "import pandas as pd\n",
    "import numpy as np\n",
    "import matplotlib.pyplot as plt\n",
    "import seaborn as sns\n",
    "import matplotlib\n",
    "from scipy import stats\n",
    "from src import mef_test\n",
    "import sklearn\n",
    "from src import functions\n",
    "import pickle"
   ]
  },
  {
   "cell_type": "code",
   "execution_count": 88,
   "metadata": {},
   "outputs": [],
   "source": [
    "train = functions.load_train_add_target_df()\n",
    "#Creating the status column for numerically transformed status_group\n",
    "train['status'] = train.status_group.replace(functions.numeric_status_group())\n",
    "\n",
    "train = functions.combine_extraction(train)\n",
    "train = functions.combine_managements(train)\n",
    "train = functions.combine_installer_funder(train)\n",
    "train = functions.combine_waterpoint(train)\n",
    "train = functions.clean_permit(train)"
   ]
  },
  {
   "cell_type": "code",
   "execution_count": 89,
   "metadata": {},
   "outputs": [],
   "source": [
    "new_df = train"
   ]
  },
  {
   "cell_type": "code",
   "execution_count": 90,
   "metadata": {},
   "outputs": [],
   "source": [
    "def average_prediction(construction_year):\n",
    "    if type(construction_year) == str:\n",
    "        decade_split = construction_year.split('-')\n",
    "        return pd.Series(decade_split).map(int).mean()\n",
    "    else:\n",
    "        return construction_year\n",
    "\n",
    "    "
   ]
  },
  {
   "cell_type": "code",
   "execution_count": 91,
   "metadata": {},
   "outputs": [
    {
     "name": "stderr",
     "output_type": "stream",
     "text": [
      "<ipython-input-91-be43fff973e9>:11: SettingWithCopyWarning: \n",
      "A value is trying to be set on a copy of a slice from a DataFrame.\n",
      "Try using .loc[row_indexer,col_indexer] = value instead\n",
      "\n",
      "See the caveats in the documentation: https://pandas.pydata.org/pandas-docs/stable/user_guide/indexing.html#returning-a-view-versus-a-copy\n",
      "  non_zeros[decade] = non_zeros['decade'].map(lambda val: functions.create_decade_columns(val, decade))\n"
     ]
    }
   ],
   "source": [
    "new_df['decade'] = new_df['construction_year'].map(functions.bin_year)\n",
    "\n",
    "non_zeros = new_df[new_df['construction_year']>0]\n",
    "decades = ['2000-2010',\n",
    "'1990-2000',\n",
    "'1980-1990',\n",
    "'2010-2020',\n",
    "'1970-1980',\n",
    "'1960-1970']\n",
    "for decade in decades:\n",
    "    non_zeros[decade] = non_zeros['decade'].map(lambda val: functions.create_decade_columns(val, decade))\n",
    "\n",
    "non_zeros = non_zeros.loc[:,['construction_year']]"
   ]
  },
  {
   "cell_type": "code",
   "execution_count": 92,
   "metadata": {},
   "outputs": [],
   "source": [
    "zeros = new_df[new_df['construction_year']==0]\n",
    "zeros_index = zeros.index\n",
    "zeros = zeros.reset_index().drop(\"index\", axis=1)"
   ]
  },
  {
   "cell_type": "code",
   "execution_count": 93,
   "metadata": {},
   "outputs": [
    {
     "name": "stdout",
     "output_type": "stream",
     "text": [
      "<class 'pandas.core.frame.DataFrame'>\n",
      "RangeIndex: 20709 entries, 0 to 20708\n",
      "Data columns (total 38 columns):\n",
      " #   Column                        Non-Null Count  Dtype  \n",
      "---  ------                        --------------  -----  \n",
      " 0   id                            20709 non-null  int64  \n",
      " 1   amount_tsh                    20709 non-null  float64\n",
      " 2   date_recorded                 20709 non-null  object \n",
      " 3   gps_height                    20709 non-null  int64  \n",
      " 4   longitude                     20709 non-null  float64\n",
      " 5   latitude                      20709 non-null  float64\n",
      " 6   wpt_name                      20709 non-null  object \n",
      " 7   num_private                   20709 non-null  int64  \n",
      " 8   basin                         20709 non-null  object \n",
      " 9   subvillage                    20348 non-null  object \n",
      " 10  region                        20709 non-null  object \n",
      " 11  region_code                   20709 non-null  int64  \n",
      " 12  district_code                 20709 non-null  int64  \n",
      " 13  lga                           20709 non-null  object \n",
      " 14  ward                          20709 non-null  object \n",
      " 15  population                    20709 non-null  int64  \n",
      " 16  public_meeting                19681 non-null  object \n",
      " 17  recorded_by                   20709 non-null  object \n",
      " 18  scheme_name                   7520 non-null   object \n",
      " 19  permit                        20709 non-null  object \n",
      " 20  construction_year             20709 non-null  int64  \n",
      " 21  management_group              20709 non-null  object \n",
      " 22  payment                       20709 non-null  object \n",
      " 23  payment_type                  20709 non-null  object \n",
      " 24  water_quality                 20709 non-null  object \n",
      " 25  quality_group                 20709 non-null  object \n",
      " 26  quantity                      20709 non-null  object \n",
      " 27  quantity_group                20709 non-null  object \n",
      " 28  source                        20709 non-null  object \n",
      " 29  source_type                   20709 non-null  object \n",
      " 30  source_class                  20709 non-null  object \n",
      " 31  status_group                  20709 non-null  object \n",
      " 32  status                        20709 non-null  int64  \n",
      " 33  extraction_type/group/class   20709 non-null  object \n",
      " 34  scheme_management/management  20709 non-null  object \n",
      " 35  funder/installer              20709 non-null  object \n",
      " 36  waterpoint_type/group         20709 non-null  object \n",
      " 37  decade                        20709 non-null  object \n",
      "dtypes: float64(3), int64(8), object(27)\n",
      "memory usage: 6.0+ MB\n"
     ]
    }
   ],
   "source": [
    "zeros.info()"
   ]
  },
  {
   "cell_type": "code",
   "execution_count": 94,
   "metadata": {},
   "outputs": [],
   "source": [
    "zeros_clean = zeros.loc[:,['waterpoint_type/group', 'scheme_management/management', 'basin', 'region_code', \n",
    "                    'funder/installer', 'extraction_type/group/class',  'source', 'source_type', \n",
    "                   'management_group', 'permit', 'district_code']]"
   ]
  },
  {
   "cell_type": "code",
   "execution_count": 95,
   "metadata": {},
   "outputs": [],
   "source": [
    "funder_installer_ohe = pickle.load(open('../src/funder_installer_ohe.sav', 'rb'))\n",
    "extraction_type_group_class_ohe = pickle.load(open('../src/extraction_type_group_class_ohe.sav', 'rb'))\n",
    "scheme_management_management_ohe = pickle.load(open('../src/scheme_management_management_ohe.sav', 'rb'))\n",
    "management_group_ohe = pickle.load(open('../src/management_group_ohe.sav', 'rb'))\n",
    "source_type_ohe = pickle.load(open('../src/source_type_ohe.sav', 'rb'))\n",
    "source_ohe = pickle.load(open('../src/source_ohe.sav', 'rb'))\n",
    "waterpoint_type_group_ohe = pickle.load(open('../src/waterpoint_type_group_ohe.sav', 'rb'))\n",
    "permit_ohe = pickle.load(open('../src/permit_ohe.sav', 'rb'))\n",
    "basin_ohe = pickle.load(open('../src/basin_ohe.sav', 'rb'))\n",
    "district_code_ohe = pickle.load(open('../src/district_code_ohe.sav', 'rb'))\n",
    "region_code_ohe = pickle.load(open('../src/region_code_ohe.sav', 'rb'))"
   ]
  },
  {
   "cell_type": "code",
   "execution_count": 96,
   "metadata": {},
   "outputs": [],
   "source": [
    "X_test_all_features = zeros_clean.copy().reset_index().drop(\"index\", axis=1)\n",
    "X_test_all_features = functions.encode_and_concat_feature(X_test_all_features, 'funder/installer', funder_installer_ohe)\n",
    "X_test_all_features = functions.encode_and_concat_feature(X_test_all_features, \"extraction_type/group/class\", extraction_type_group_class_ohe)\n",
    "X_test_all_features = functions.encode_and_concat_feature(X_test_all_features, \"scheme_management/management\", scheme_management_management_ohe)\n",
    "X_test_all_features = functions.encode_and_concat_feature(X_test_all_features, \"management_group\", management_group_ohe)\n",
    "X_test_all_features = functions.encode_and_concat_feature(X_test_all_features, \"source_type\", source_type_ohe)\n",
    "X_test_all_features = functions.encode_and_concat_feature(X_test_all_features, \"source\", source_ohe)\n",
    "X_test_all_features = functions.encode_and_concat_feature(X_test_all_features, \"waterpoint_type/group\", waterpoint_type_group_ohe)\n",
    "X_test_all_features = functions.encode_and_concat_feature(X_test_all_features, \"permit\", permit_ohe)\n",
    "X_test_all_features = functions.encode_and_concat_feature(X_test_all_features, \"basin\", basin_ohe)\n",
    "X_test_all_features = functions.encode_and_concat_feature(X_test_all_features, \"district_code\", district_code_ohe)\n",
    "X_test_all_features = functions.encode_and_concat_feature(X_test_all_features, \"region_code\", region_code_ohe)"
   ]
  },
  {
   "cell_type": "code",
   "execution_count": 97,
   "metadata": {},
   "outputs": [
    {
     "data": {
      "text/plain": [
       "array(['2010-2020', '1990-2000', '2000-2010', ..., '2010-2020',\n",
       "       '2000-2010', '2010-2020'], dtype=object)"
      ]
     },
     "execution_count": 97,
     "metadata": {},
     "output_type": "execute_result"
    }
   ],
   "source": [
    "model = pickle.load(open('../src/year_predictor.sav', 'rb'))\n",
    "\n",
    "predictions_ = model.predict(X_test_all_features)\n",
    "prediction_df = pd.DataFrame(predictions_, index=zeros_index, columns=['construction_year'])\n",
    "\n",
    "predictions_"
   ]
  },
  {
   "cell_type": "code",
   "execution_count": 98,
   "metadata": {},
   "outputs": [],
   "source": [
    "full_df = pd.concat([non_zeros, prediction_df])\n",
    "full_df.sort_index(inplace=True)\n",
    "\n",
    "full_df['construction_year'] = full_df['construction_year'].map(average_prediction)\n",
    "\n",
    "new_df = new_df.drop('construction_year', axis=1).merge(full_df, left_index=True, right_index=True)\n",
    "new_df.drop('decade', axis=1, inplace=True)\n"
   ]
  },
  {
   "cell_type": "code",
   "execution_count": 99,
   "metadata": {},
   "outputs": [
    {
     "name": "stdout",
     "output_type": "stream",
     "text": [
      "<class 'pandas.core.frame.DataFrame'>\n",
      "Int64Index: 59400 entries, 0 to 59399\n",
      "Data columns (total 37 columns):\n",
      " #   Column                        Non-Null Count  Dtype  \n",
      "---  ------                        --------------  -----  \n",
      " 0   id                            59400 non-null  int64  \n",
      " 1   amount_tsh                    59400 non-null  float64\n",
      " 2   date_recorded                 59400 non-null  object \n",
      " 3   gps_height                    59400 non-null  int64  \n",
      " 4   longitude                     59400 non-null  float64\n",
      " 5   latitude                      59400 non-null  float64\n",
      " 6   wpt_name                      59400 non-null  object \n",
      " 7   num_private                   59400 non-null  int64  \n",
      " 8   basin                         59400 non-null  object \n",
      " 9   subvillage                    59029 non-null  object \n",
      " 10  region                        59400 non-null  object \n",
      " 11  region_code                   59400 non-null  int64  \n",
      " 12  district_code                 59400 non-null  int64  \n",
      " 13  lga                           59400 non-null  object \n",
      " 14  ward                          59400 non-null  object \n",
      " 15  population                    59400 non-null  int64  \n",
      " 16  public_meeting                56066 non-null  object \n",
      " 17  recorded_by                   59400 non-null  object \n",
      " 18  scheme_name                   31234 non-null  object \n",
      " 19  permit                        59400 non-null  object \n",
      " 20  management_group              59400 non-null  object \n",
      " 21  payment                       59400 non-null  object \n",
      " 22  payment_type                  59400 non-null  object \n",
      " 23  water_quality                 59400 non-null  object \n",
      " 24  quality_group                 59400 non-null  object \n",
      " 25  quantity                      59400 non-null  object \n",
      " 26  quantity_group                59400 non-null  object \n",
      " 27  source                        59400 non-null  object \n",
      " 28  source_type                   59400 non-null  object \n",
      " 29  source_class                  59400 non-null  object \n",
      " 30  status_group                  59400 non-null  object \n",
      " 31  status                        59400 non-null  int64  \n",
      " 32  extraction_type/group/class   59400 non-null  object \n",
      " 33  scheme_management/management  59400 non-null  object \n",
      " 34  funder/installer              59400 non-null  object \n",
      " 35  waterpoint_type/group         59400 non-null  object \n",
      " 36  construction_year             59400 non-null  float64\n",
      "dtypes: float64(4), int64(7), object(26)\n",
      "memory usage: 19.7+ MB\n"
     ]
    }
   ],
   "source": [
    "new_df.info()"
   ]
  },
  {
   "cell_type": "code",
   "execution_count": 100,
   "metadata": {},
   "outputs": [
    {
     "data": {
      "text/plain": [
       "count    59400.000000\n",
       "mean      1997.828316\n",
       "std         12.106569\n",
       "min       1960.000000\n",
       "25%       1992.000000\n",
       "50%       2002.000000\n",
       "75%       2006.000000\n",
       "max       2015.000000\n",
       "Name: construction_year, dtype: float64"
      ]
     },
     "execution_count": 100,
     "metadata": {},
     "output_type": "execute_result"
    }
   ],
   "source": [
    "full_df.construction_year.describe()"
   ]
  },
  {
   "cell_type": "code",
   "execution_count": 101,
   "metadata": {},
   "outputs": [
    {
     "data": {
      "text/plain": [
       "<matplotlib.axes._subplots.AxesSubplot at 0x7feecfdf4be0>"
      ]
     },
     "execution_count": 101,
     "metadata": {},
     "output_type": "execute_result"
    },
    {
     "data": {
      "image/png": "[encoded data removed]",
      "text/plain": [
       "<Figure size 432x288 with 1 Axes>"
      ]
     },
     "metadata": {
      "needs_background": "light"
     },
     "output_type": "display_data"
    }
   ],
   "source": [
    "sns.distplot(full_df.construction_year)"
   ]
  },
  {
   "cell_type": "code",
   "execution_count": null,
   "metadata": {},
   "outputs": [],
   "source": []
  },
  {
   "cell_type": "code",
   "execution_count": 89,
   "metadata": {},
   "outputs": [],
   "source": [
    "def average_prediction(construction_year):\n",
    "    if type(construction_year) == str:\n",
    "        decade_split = construction_year.split('-')\n",
    "        return pd.Series(decade_split).map(int).mean()\n",
    "    else:\n",
    "        return construction_year\n",
    "\n",
    "    "
   ]
  },
  {
   "cell_type": "code",
   "execution_count": 89,
   "metadata": {},
   "outputs": [],
   "source": [
    "df['decade'] = df['construction_year'].map(functions.bin_year)\n",
    "\n",
    "non_zeros = df[df['construction_year']>0]\n",
    "decades = ['2000-2010',\n",
    "'1990-2000',\n",
    "'1980-1990',\n",
    "'2010-2020',\n",
    "'1970-1980',\n",
    "'1960-1970']\n",
    "for decade in decades:\n",
    "    non_zeros[decade] = non_zeros['decade'].map(lambda val: functions.create_decade_columns(val, decade))\n",
    "\n",
    "non_zeros = non_zeros.loc[:,['construction_year']]\n",
    "\n",
    "zeros = df[df['construction_year']==0]\n",
    "zeros_index = zeros.index\n",
    "zeros = zeros.reset_index().drop(\"index\", axis=1)\n",
    "\n",
    "zeros.info()\n",
    "\n",
    "zeros_clean = zeros.loc[:,['waterpoint_type/group', 'scheme_management/management', 'basin', 'region_code', \n",
    "                    'funder/installer', 'extraction_type/group/class',  'source', 'source_type', \n",
    "                   'management_group', 'permit', 'district_code']]\n",
    "\n",
    "funder_installer_ohe = pickle.load(open('../src/funder_installer_ohe.sav', 'rb'))\n",
    "extraction_type_group_class_ohe = pickle.load(open('../src/extraction_type_group_class_ohe.sav', 'rb'))\n",
    "scheme_management_management_ohe = pickle.load(open('../src/scheme_management_management_ohe.sav', 'rb'))\n",
    "management_group_ohe = pickle.load(open('../src/management_group_ohe.sav', 'rb'))\n",
    "source_type_ohe = pickle.load(open('../src/source_type_ohe.sav', 'rb'))\n",
    "source_ohe = pickle.load(open('../src/source_ohe.sav', 'rb'))\n",
    "waterpoint_type_group_ohe = pickle.load(open('../src/waterpoint_type_group_ohe.sav', 'rb'))\n",
    "permit_ohe = pickle.load(open('../src/permit_ohe.sav', 'rb'))\n",
    "basin_ohe = pickle.load(open('../src/basin_ohe.sav', 'rb'))\n",
    "district_code_ohe = pickle.load(open('../src/district_code_ohe.sav', 'rb'))\n",
    "region_code_ohe = pickle.load(open('../src/region_code_ohe.sav', 'rb'))\n",
    "\n",
    "X_test_all_features = zeros_clean.copy().reset_index().drop(\"index\", axis=1)\n",
    "X_test_all_features = functions.encode_and_concat_feature(X_test_all_features, 'funder/installer', funder_installer_ohe)\n",
    "X_test_all_features = functions.encode_and_concat_feature(X_test_all_features, \"extraction_type/group/class\", extraction_type_group_class_ohe)\n",
    "X_test_all_features = functions.encode_and_concat_feature(X_test_all_features, \"scheme_management/management\", scheme_management_management_ohe)\n",
    "X_test_all_features = functions.encode_and_concat_feature(X_test_all_features, \"management_group\", management_group_ohe)\n",
    "X_test_all_features = functions.encode_and_concat_feature(X_test_all_features, \"source_type\", source_type_ohe)\n",
    "X_test_all_features = functions.encode_and_concat_feature(X_test_all_features, \"source\", source_ohe)\n",
    "X_test_all_features = functions.encode_and_concat_feature(X_test_all_features, \"waterpoint_type/group\", waterpoint_type_group_ohe)\n",
    "X_test_all_features = functions.encode_and_concat_feature(X_test_all_features, \"permit\", permit_ohe)\n",
    "X_test_all_features = functions.encode_and_concat_feature(X_test_all_features, \"basin\", basin_ohe)\n",
    "X_test_all_features = functions.encode_and_concat_feature(X_test_all_features, \"district_code\", district_code_ohe)\n",
    "X_test_all_features = functions.encode_and_concat_feature(X_test_all_features, \"region_code\", region_code_ohe)\n",
    "\n",
    "model = pickle.load(open('../src/year_predictor.sav', 'rb'))\n",
    "\n",
    "predictions_ = model.predict(X_test_all_features)\n",
    "prediction_df = pd.DataFrame(predictions_, index=zeros_index, columns=['construction_year'])\n",
    "\n",
    "predictions_\n",
    "\n",
    "full_df = pd.concat([non_zeros, prediction_df])\n",
    "full_df.sort_index(inplace=True)\n",
    "\n",
    "full_df['construction_year'] = full_df['construction_year'].map(average_prediction)\n",
    "\n",
    "new_df = new_df.drop('construction_year', axis=1).merge(full_df, left_index=True, right_index=True)\n",
    "new_df.drop('decade', axis=1, inplace=True)\n",
    "\n",
    "return new_df"
   ]
  }
 ],
 "metadata": {
  "kernelspec": {
   "display_name": "Python 3",
   "language": "python",
   "name": "python3"
  },
  "language_info": {
   "codemirror_mode": {
    "name": "ipython",
    "version": 3
   },
   "file_extension": ".py",
   "mimetype": "text/x-python",
   "name": "python",
   "nbconvert_exporter": "python",
   "pygments_lexer": "ipython3",
   "version": "3.8.3"
  }
 },
 "nbformat": 4,
 "nbformat_minor": 4
}
