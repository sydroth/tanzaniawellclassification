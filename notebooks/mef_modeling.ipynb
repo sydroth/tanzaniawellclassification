{
 "cells": [
  {
   "cell_type": "code",
   "execution_count": 27,
   "metadata": {},
   "outputs": [
    {
     "name": "stdout",
     "output_type": "stream",
     "text": [
      "The autoreload extension is already loaded. To reload it, use:\n",
      "  %reload_ext autoreload\n"
     ]
    }
   ],
   "source": [
    "import pandas as pd\n",
    "import numpy as np\n",
    "import seaborn as sns\n",
    "import matplotlib.pyplot as plt\n",
    "%matplotlib inline\n",
    "from sklearn import preprocessing\n",
    "from sklearn.preprocessing import StandardScaler\n",
    "from sklearn.linear_model import Ridge, LogisticRegression\n",
    "from sklearn.linear_model import Lasso\n",
    "from sklearn.ensemble import RandomForestClassifier\n",
    "from sklearn.neighbors import KNeighborsClassifier\n",
    "from sklearn import metrics\n",
    "from sklearn.metrics import roc_curve, auc\n",
    "from sklearn.metrics import confusion_matrix, mean_squared_error, classification_report\n",
    "from sklearn.model_selection import train_test_split, GridSearchCV, cross_val_score\n",
    "from sklearn.tree import DecisionTreeClassifier\n",
    "from sklearn.metrics import accuracy_score, precision_score, recall_score, f1_score, roc_auc_score \n",
    "from sklearn.preprocessing import OneHotEncoder\n",
    "from sklearn.tree import DecisionTreeRegressor\n",
    "from sklearn.tree import DecisionTreeClassifier\n",
    "from sklearn.ensemble import BaggingRegressor, RandomForestRegressor, ExtraTreesRegressor\n",
    "from sklearn.pipeline import FeatureUnion, make_pipeline\n",
    "from sklearn.impute import MissingIndicator, SimpleImputer, KNNImputer\n",
    "from sklearn.model_selection import RepeatedStratifiedKFold, cross_val_score, cross_validate\n",
    "%load_ext autoreload\n",
    "%autoreload 2\n",
    "import os\n",
    "import sys\n",
    "module_path = os.path.abspath(os.path.join(os.pardir, os.pardir))\n",
    "if module_path not in sys.path:\n",
    "    sys.path.append(module_path)"
   ]
  },
  {
   "cell_type": "code",
   "execution_count": 28,
   "metadata": {},
   "outputs": [],
   "source": [
    "def plot_feature_importances(model):\n",
    "    n_features = X_train_processed.shape[1]\n",
    "    plt.figure(figsize=(12,50))\n",
    "    plt.barh(range(n_features), model.feature_importances_, align='edge') \n",
    "    plt.yticks(np.arange(n_features), X_train_processed.columns.values) \n",
    "    plt.xlabel('Feature importance')\n",
    "    plt.ylabel('Feature')\n",
    "\n"
   ]
  },
  {
   "cell_type": "code",
   "execution_count": 29,
   "metadata": {},
   "outputs": [],
   "source": [
    "def evaluation(y, y_hat, title = 'Confusion Matrix'):\n",
    "    '''takes in true values and predicted values.\n",
    "    The function then prints out a classifcation report\n",
    "    as well as a confusion matrix using seaborn's heatmap.'''\n",
    "    cm = confusion_matrix(y, y_hat)\n",
    "    precision = precision_score(y, y_hat, average = 'weighted')\n",
    "    recall = recall_score(y, y_hat, average = 'weighted')\n",
    "    accuracy = accuracy_score(y,y_hat)\n",
    "    print(classification_report(y, y_hat))\n",
    "    print('Accurancy: ', accuracy)\n",
    "    sns.heatmap(cm,  cmap= 'Greens', annot=True)\n",
    "    plt.xlabel('predicted')\n",
    "    plt.ylabel('actual')\n",
    "    plt.title(title)\n",
    "    plt.show()"
   ]
  },
  {
   "cell_type": "code",
   "execution_count": 30,
   "metadata": {},
   "outputs": [],
   "source": [
    "# train = f.load_processed_train_df()\n",
    "# test = f.load_test_df()\n",
    "train = pd.read_csv('../data/processed_data.csv')\n",
    "train.permit = train.permit.astype(str)"
   ]
  },
  {
   "cell_type": "code",
   "execution_count": null,
   "metadata": {},
   "outputs": [],
   "source": [
    "\n",
    "\n"
   ]
  },
  {
   "cell_type": "code",
   "execution_count": 31,
   "metadata": {},
   "outputs": [],
   "source": [
    "X = train.drop(['id', 'status_group', 'status', 'date_recorded'], axis=1)\n",
    "y = train.status\n",
    "X_train, X_test, y_train, y_test = train_test_split(X, y, random_state=42)"
   ]
  },
  {
   "cell_type": "code",
   "execution_count": 32,
   "metadata": {},
   "outputs": [],
   "source": [
    "ohe_features = ['funder/installer', 'region_bins',\n",
    "               'public_meeting', 'lga_coded',\n",
    "               'scheme_management/management', 'permit', \n",
    "               'extraction_type/group/class', \n",
    "               'payment', 'quality_group',\n",
    "               'quantity', 'source_type', 'waterpoint_type/group']"
   ]
  },
  {
   "cell_type": "code",
   "execution_count": 50,
   "metadata": {},
   "outputs": [],
   "source": [
    "cont_features = ['gps_height', 'population',\n",
    "                 'construction_year']\n",
    "\n",
    "decade_features = ['2000-2010', '1990-2000', '1980-1990',\n",
    "                   '2010-2020', '1970-1980', '1960-1970']"
   ]
  },
  {
   "cell_type": "code",
   "execution_count": 51,
   "metadata": {},
   "outputs": [],
   "source": [
    "X_train_ohe = X_train[ohe_features]\n",
    "X_test_ohe = X_test[ohe_features]\n",
    "X_train_cont = X_train[cont_features].astype(float)\n",
    "X_test_cont = X_test[cont_features].astype(float)"
   ]
  },
  {
   "cell_type": "code",
   "execution_count": 52,
   "metadata": {},
   "outputs": [],
   "source": [
    "X_train_index = X_train.index\n",
    "X_test_index = X_test.index"
   ]
  },
  {
   "cell_type": "code",
   "execution_count": 53,
   "metadata": {},
   "outputs": [],
   "source": [
    "ohe = OneHotEncoder()\n",
    "ss = StandardScaler()\n",
    "X_train_encoded = ohe.fit_transform(X_train_ohe)\n",
    "X_test_encoded = ohe.transform(X_test_ohe)\n",
    "X_train_scaled = pd.DataFrame(ss.fit_transform(X_train_cont), columns=X_train[cont_features].columns, index=X_train_index)\n",
    "X_test_scaled = pd.DataFrame(ss.transform(X_test_cont), columns=X_test[cont_features].columns, index=X_test_index)"
   ]
  },
  {
   "cell_type": "code",
   "execution_count": 54,
   "metadata": {},
   "outputs": [],
   "source": [
    "train_columns = ohe.get_feature_names(input_features=X_train_ohe.columns)\n",
    "test_columns = ohe.get_feature_names(input_features=X_test_ohe.columns)\n",
    "X_train_processed = pd.DataFrame(X_train_encoded.todense(), columns=train_columns, index=X_train_index)\n",
    "X_test_processed = pd.DataFrame(X_test_encoded.todense(), columns=test_columns, index=X_test_index)"
   ]
  },
  {
   "cell_type": "code",
   "execution_count": null,
   "metadata": {},
   "outputs": [],
   "source": []
  },
  {
   "cell_type": "code",
   "execution_count": 55,
   "metadata": {},
   "outputs": [],
   "source": [
    "X_train_all = pd.concat([X_train_scaled, X_train_processed], axis=1)\n",
    "X_test_all = pd.concat([X_test_scaled, X_test_processed], axis=1)\n"
   ]
  },
  {
   "cell_type": "code",
   "execution_count": 56,
   "metadata": {},
   "outputs": [],
   "source": [
    "X_train_all = X_train_all.join(X_train[decade_features])\n",
    "X_test_all = X_test_all.join(X_test[decade_features])"
   ]
  },
  {
   "cell_type": "code",
   "execution_count": 57,
   "metadata": {},
   "outputs": [
    {
     "data": {
      "text/plain": [
       "gps_height                  0\n",
       "population                  0\n",
       "construction_year           0\n",
       "funder/installer_adb/dwe    0\n",
       "funder/installer_amref      0\n",
       "                           ..\n",
       "1990-2000                   0\n",
       "1980-1990                   0\n",
       "2010-2020                   0\n",
       "1970-1980                   0\n",
       "1960-1970                   0\n",
       "Length: 145, dtype: int64"
      ]
     },
     "execution_count": 57,
     "metadata": {},
     "output_type": "execute_result"
    }
   ],
   "source": [
    "X_train_all.isna().sum()"
   ]
  },
  {
   "cell_type": "code",
   "execution_count": 58,
   "metadata": {},
   "outputs": [
    {
     "name": "stdout",
     "output_type": "stream",
     "text": [
      "17146\n",
      "3243\n",
      "24161\n"
     ]
    }
   ],
   "source": [
    "a = y_train[y_train==0].index\n",
    "b = y_train[y_train==1].index\n",
    "c = y_train[y_train==2].index\n",
    "\n",
    "print(len(a))\n",
    "print(len(b))\n",
    "print(len(c))"
   ]
  },
  {
   "cell_type": "code",
   "execution_count": 59,
   "metadata": {},
   "outputs": [],
   "source": [
    "a_indexes = np.random.choice(a, size=24161-17146, replace=True)\n",
    "b_indexes = np.random.choice(b, size=24161-3243, replace=True)"
   ]
  },
  {
   "cell_type": "code",
   "execution_count": 60,
   "metadata": {},
   "outputs": [],
   "source": [
    "y_train_bal = pd.concat([y_train.loc[a_indexes], y_train.loc[b_indexes], y_train])"
   ]
  },
  {
   "cell_type": "code",
   "execution_count": 61,
   "metadata": {},
   "outputs": [],
   "source": [
    "X_train_all_bal = pd.concat([X_train_all.loc[a_indexes], X_train_all.loc[b_indexes], X_train_all])"
   ]
  },
  {
   "cell_type": "code",
   "execution_count": 62,
   "metadata": {},
   "outputs": [
    {
     "name": "stdout",
     "output_type": "stream",
     "text": [
      "24161\n",
      "24161\n",
      "24161\n"
     ]
    }
   ],
   "source": [
    "a = y_train_bal[y_train==0].index\n",
    "b = y_train_bal[y_train==1].index\n",
    "c = y_train_bal[y_train==2].index\n",
    "\n",
    "print(len(a))\n",
    "print(len(b))\n",
    "print(len(c))"
   ]
  },
  {
   "cell_type": "code",
   "execution_count": 63,
   "metadata": {},
   "outputs": [
    {
     "data": {
      "text/plain": [
       "13792    17\n",
       "41721    17\n",
       "48713    16\n",
       "56641    16\n",
       "7877     16\n",
       "         ..\n",
       "35513     1\n",
       "33464     1\n",
       "58036     1\n",
       "55987     1\n",
       "0         1\n",
       "Length: 44550, dtype: int64"
      ]
     },
     "execution_count": 63,
     "metadata": {},
     "output_type": "execute_result"
    }
   ],
   "source": [
    "y_train_bal.index.value_counts()"
   ]
  },
  {
   "cell_type": "code",
   "execution_count": 64,
   "metadata": {},
   "outputs": [
    {
     "data": {
      "text/plain": [
       "13792    17\n",
       "41721    17\n",
       "48713    16\n",
       "56641    16\n",
       "7877     16\n",
       "         ..\n",
       "35513     1\n",
       "33464     1\n",
       "58036     1\n",
       "55987     1\n",
       "0         1\n",
       "Length: 44550, dtype: int64"
      ]
     },
     "execution_count": 64,
     "metadata": {},
     "output_type": "execute_result"
    }
   ],
   "source": [
    "X_train_all_bal.index.value_counts()"
   ]
  },
  {
   "cell_type": "markdown",
   "metadata": {},
   "source": [
    "# Balanced"
   ]
  },
  {
   "cell_type": "code",
   "execution_count": 65,
   "metadata": {},
   "outputs": [
    {
     "data": {
      "text/plain": [
       "RandomForestClassifier(n_estimators=1000)"
      ]
     },
     "execution_count": 65,
     "metadata": {},
     "output_type": "execute_result"
    }
   ],
   "source": [
    "rf = RandomForestClassifier(n_estimators=1000)\n",
    "rf.fit(X_train_all_bal, y_train_bal)"
   ]
  },
  {
   "cell_type": "code",
   "execution_count": 66,
   "metadata": {},
   "outputs": [
    {
     "name": "stdout",
     "output_type": "stream",
     "text": [
      "              precision    recall  f1-score   support\n",
      "\n",
      "           0       0.80      0.76      0.78      5678\n",
      "           1       0.31      0.51      0.39      1074\n",
      "           2       0.82      0.78      0.80      8098\n",
      "\n",
      "    accuracy                           0.75     14850\n",
      "   macro avg       0.64      0.68      0.66     14850\n",
      "weighted avg       0.78      0.75      0.76     14850\n",
      "\n",
      "Accurancy:  0.7522558922558923\n"
     ]
    },
    {
     "data": {
      "image/png": "[encoded data removed]",
      "text/plain": [
       "<Figure size 432x288 with 2 Axes>"
      ]
     },
     "metadata": {
      "needs_background": "light"
     },
     "output_type": "display_data"
    }
   ],
   "source": [
    "evaluation(y_test, rf.predict(X_test_all))"
   ]
  },
  {
   "cell_type": "code",
   "execution_count": 67,
   "metadata": {},
   "outputs": [
    {
     "data": {
      "text/plain": [
       "array([[15996,   621,   529],\n",
       "       [   24,  3160,    59],\n",
       "       [  526,  1606, 22029]])"
      ]
     },
     "execution_count": 67,
     "metadata": {},
     "output_type": "execute_result"
    }
   ],
   "source": [
    "confusion_matrix(y_train, rf.predict(X_train_all))"
   ]
  },
  {
   "cell_type": "code",
   "execution_count": 68,
   "metadata": {},
   "outputs": [
    {
     "data": {
      "text/plain": [
       "array([[4337,  343,  998],\n",
       "       [ 150,  553,  371],\n",
       "       [ 934,  883, 6281]])"
      ]
     },
     "execution_count": 68,
     "metadata": {},
     "output_type": "execute_result"
    }
   ],
   "source": [
    "confusion_matrix(y_test, rf.predict(X_test_all))"
   ]
  },
  {
   "cell_type": "code",
   "execution_count": null,
   "metadata": {},
   "outputs": [],
   "source": []
  },
  {
   "cell_type": "code",
   "execution_count": null,
   "metadata": {},
   "outputs": [],
   "source": []
  },
  {
   "cell_type": "code",
   "execution_count": null,
   "metadata": {},
   "outputs": [],
   "source": [
    "import xgboost as xgb"
   ]
  },
  {
   "cell_type": "code",
   "execution_count": null,
   "metadata": {},
   "outputs": [],
   "source": [
    "# read in data\n",
    "dtrain = xgb.DMatrix('demo/data/agaricus.txt.train')\n",
    "dtest = xgb.DMatrix('demo/data/agaricus.txt.test')\n",
    "# specify parameters via map\n",
    "param = {'max_depth':6, 'eta':.3, 'objective':'binary:logistic', \n",
    "         'tree_method':'gpu_hist', 'verbosity':'1', }\n",
    "num_round = 2"
   ]
  },
  {
   "cell_type": "code",
   "execution_count": null,
   "metadata": {},
   "outputs": [],
   "source": [
    "bst = xgb.train(param, dtrain, num_round)"
   ]
  }
 ],
 "metadata": {
  "kernelspec": {
   "display_name": "Python 3",
   "language": "python",
   "name": "python3"
  },
  "language_info": {
   "codemirror_mode": {
    "name": "ipython",
    "version": 3
   },
   "file_extension": ".py",
   "mimetype": "text/x-python",
   "name": "python",
   "nbconvert_exporter": "python",
   "pygments_lexer": "ipython3",
   "version": "3.8.3"
  }
 },
 "nbformat": 4,
 "nbformat_minor": 4
}
