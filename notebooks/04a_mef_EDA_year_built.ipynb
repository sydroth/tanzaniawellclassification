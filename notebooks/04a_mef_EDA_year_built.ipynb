{
 "cells": [
  {
   "cell_type": "markdown",
   "metadata": {},
   "source": [
    "## Purpose\n",
    "This notebook explores the connection between well age and status. We will examine both construction year and date recorded with the goal of finding features that provide predictive power. \n",
    "\n",
    "Table of Contents\n",
    "1. Initial EDA\n",
    "2. Date Recorded\n",
    "3. Construction Year\n",
    "4. Age\n",
    "5. Results"
   ]
  },
  {
   "cell_type": "markdown",
   "metadata": {},
   "source": [
    "## 1. Initial EDA"
   ]
  },
  {
   "cell_type": "code",
   "execution_count": 1,
   "metadata": {},
   "outputs": [],
   "source": [
    "%load_ext autoreload\n",
    "%autoreload 2\n",
    "\n",
    "import numpy as np\n",
    "import pandas as pd\n",
    "import matplotlib.pyplot as plt\n",
    "import seaborn as sns"
   ]
  },
  {
   "cell_type": "code",
   "execution_count": 2,
   "metadata": {},
   "outputs": [
    {
     "data": {
      "text/html": [
       "<div>\n",
       "<style scoped>\n",
       "    .dataframe tbody tr th:only-of-type {\n",
       "        vertical-align: middle;\n",
       "    }\n",
       "\n",
       "    .dataframe tbody tr th {\n",
       "        vertical-align: top;\n",
       "    }\n",
       "\n",
       "    .dataframe thead th {\n",
       "        text-align: right;\n",
       "    }\n",
       "</style>\n",
       "<table border=\"1\" class=\"dataframe\">\n",
       "  <thead>\n",
       "    <tr style=\"text-align: right;\">\n",
       "      <th></th>\n",
       "      <th>id</th>\n",
       "      <th>amount_tsh</th>\n",
       "      <th>date_recorded</th>\n",
       "      <th>funder</th>\n",
       "      <th>gps_height</th>\n",
       "      <th>installer</th>\n",
       "      <th>longitude</th>\n",
       "      <th>latitude</th>\n",
       "      <th>wpt_name</th>\n",
       "      <th>num_private</th>\n",
       "      <th>...</th>\n",
       "      <th>payment_type</th>\n",
       "      <th>water_quality</th>\n",
       "      <th>quality_group</th>\n",
       "      <th>quantity</th>\n",
       "      <th>quantity_group</th>\n",
       "      <th>source</th>\n",
       "      <th>source_type</th>\n",
       "      <th>source_class</th>\n",
       "      <th>waterpoint_type</th>\n",
       "      <th>waterpoint_type_group</th>\n",
       "    </tr>\n",
       "  </thead>\n",
       "  <tbody>\n",
       "    <tr>\n",
       "      <th>0</th>\n",
       "      <td>69572</td>\n",
       "      <td>6000.0</td>\n",
       "      <td>2011-03-14</td>\n",
       "      <td>Roman</td>\n",
       "      <td>1390</td>\n",
       "      <td>Roman</td>\n",
       "      <td>34.938093</td>\n",
       "      <td>-9.856322</td>\n",
       "      <td>none</td>\n",
       "      <td>0</td>\n",
       "      <td>...</td>\n",
       "      <td>annually</td>\n",
       "      <td>soft</td>\n",
       "      <td>good</td>\n",
       "      <td>enough</td>\n",
       "      <td>enough</td>\n",
       "      <td>spring</td>\n",
       "      <td>spring</td>\n",
       "      <td>groundwater</td>\n",
       "      <td>communal standpipe</td>\n",
       "      <td>communal standpipe</td>\n",
       "    </tr>\n",
       "    <tr>\n",
       "      <th>1</th>\n",
       "      <td>8776</td>\n",
       "      <td>0.0</td>\n",
       "      <td>2013-03-06</td>\n",
       "      <td>Grumeti</td>\n",
       "      <td>1399</td>\n",
       "      <td>GRUMETI</td>\n",
       "      <td>34.698766</td>\n",
       "      <td>-2.147466</td>\n",
       "      <td>Zahanati</td>\n",
       "      <td>0</td>\n",
       "      <td>...</td>\n",
       "      <td>never pay</td>\n",
       "      <td>soft</td>\n",
       "      <td>good</td>\n",
       "      <td>insufficient</td>\n",
       "      <td>insufficient</td>\n",
       "      <td>rainwater harvesting</td>\n",
       "      <td>rainwater harvesting</td>\n",
       "      <td>surface</td>\n",
       "      <td>communal standpipe</td>\n",
       "      <td>communal standpipe</td>\n",
       "    </tr>\n",
       "    <tr>\n",
       "      <th>2</th>\n",
       "      <td>34310</td>\n",
       "      <td>25.0</td>\n",
       "      <td>2013-02-25</td>\n",
       "      <td>Lottery Club</td>\n",
       "      <td>686</td>\n",
       "      <td>World vision</td>\n",
       "      <td>37.460664</td>\n",
       "      <td>-3.821329</td>\n",
       "      <td>Kwa Mahundi</td>\n",
       "      <td>0</td>\n",
       "      <td>...</td>\n",
       "      <td>per bucket</td>\n",
       "      <td>soft</td>\n",
       "      <td>good</td>\n",
       "      <td>enough</td>\n",
       "      <td>enough</td>\n",
       "      <td>dam</td>\n",
       "      <td>dam</td>\n",
       "      <td>surface</td>\n",
       "      <td>communal standpipe multiple</td>\n",
       "      <td>communal standpipe</td>\n",
       "    </tr>\n",
       "    <tr>\n",
       "      <th>3</th>\n",
       "      <td>67743</td>\n",
       "      <td>0.0</td>\n",
       "      <td>2013-01-28</td>\n",
       "      <td>Unicef</td>\n",
       "      <td>263</td>\n",
       "      <td>UNICEF</td>\n",
       "      <td>38.486161</td>\n",
       "      <td>-11.155298</td>\n",
       "      <td>Zahanati Ya Nanyumbu</td>\n",
       "      <td>0</td>\n",
       "      <td>...</td>\n",
       "      <td>never pay</td>\n",
       "      <td>soft</td>\n",
       "      <td>good</td>\n",
       "      <td>dry</td>\n",
       "      <td>dry</td>\n",
       "      <td>machine dbh</td>\n",
       "      <td>borehole</td>\n",
       "      <td>groundwater</td>\n",
       "      <td>communal standpipe multiple</td>\n",
       "      <td>communal standpipe</td>\n",
       "    </tr>\n",
       "    <tr>\n",
       "      <th>4</th>\n",
       "      <td>19728</td>\n",
       "      <td>0.0</td>\n",
       "      <td>2011-07-13</td>\n",
       "      <td>Action In A</td>\n",
       "      <td>0</td>\n",
       "      <td>Artisan</td>\n",
       "      <td>31.130847</td>\n",
       "      <td>-1.825359</td>\n",
       "      <td>Shuleni</td>\n",
       "      <td>0</td>\n",
       "      <td>...</td>\n",
       "      <td>never pay</td>\n",
       "      <td>soft</td>\n",
       "      <td>good</td>\n",
       "      <td>seasonal</td>\n",
       "      <td>seasonal</td>\n",
       "      <td>rainwater harvesting</td>\n",
       "      <td>rainwater harvesting</td>\n",
       "      <td>surface</td>\n",
       "      <td>communal standpipe</td>\n",
       "      <td>communal standpipe</td>\n",
       "    </tr>\n",
       "  </tbody>\n",
       "</table>\n",
       "<p>5 rows × 40 columns</p>\n",
       "</div>"
      ],
      "text/plain": [
       "      id  amount_tsh date_recorded        funder  gps_height     installer  \\\n",
       "0  69572      6000.0    2011-03-14         Roman        1390         Roman   \n",
       "1   8776         0.0    2013-03-06       Grumeti        1399       GRUMETI   \n",
       "2  34310        25.0    2013-02-25  Lottery Club         686  World vision   \n",
       "3  67743         0.0    2013-01-28        Unicef         263        UNICEF   \n",
       "4  19728         0.0    2011-07-13   Action In A           0       Artisan   \n",
       "\n",
       "   longitude   latitude              wpt_name  num_private  ... payment_type  \\\n",
       "0  34.938093  -9.856322                  none            0  ...     annually   \n",
       "1  34.698766  -2.147466              Zahanati            0  ...    never pay   \n",
       "2  37.460664  -3.821329           Kwa Mahundi            0  ...   per bucket   \n",
       "3  38.486161 -11.155298  Zahanati Ya Nanyumbu            0  ...    never pay   \n",
       "4  31.130847  -1.825359               Shuleni            0  ...    never pay   \n",
       "\n",
       "  water_quality quality_group      quantity  quantity_group  \\\n",
       "0          soft          good        enough          enough   \n",
       "1          soft          good  insufficient    insufficient   \n",
       "2          soft          good        enough          enough   \n",
       "3          soft          good           dry             dry   \n",
       "4          soft          good      seasonal        seasonal   \n",
       "\n",
       "                 source           source_type  source_class  \\\n",
       "0                spring                spring   groundwater   \n",
       "1  rainwater harvesting  rainwater harvesting       surface   \n",
       "2                   dam                   dam       surface   \n",
       "3           machine dbh              borehole   groundwater   \n",
       "4  rainwater harvesting  rainwater harvesting       surface   \n",
       "\n",
       "               waterpoint_type waterpoint_type_group  \n",
       "0           communal standpipe    communal standpipe  \n",
       "1           communal standpipe    communal standpipe  \n",
       "2  communal standpipe multiple    communal standpipe  \n",
       "3  communal standpipe multiple    communal standpipe  \n",
       "4           communal standpipe    communal standpipe  \n",
       "\n",
       "[5 rows x 40 columns]"
      ]
     },
     "execution_count": 2,
     "metadata": {},
     "output_type": "execute_result"
    }
   ],
   "source": [
    "X_train = pd.read_csv('../data/train_data.csv')\n",
    "X_train.head()"
   ]
  },
  {
   "cell_type": "code",
   "execution_count": 3,
   "metadata": {},
   "outputs": [
    {
     "data": {
      "text/html": [
       "<div>\n",
       "<style scoped>\n",
       "    .dataframe tbody tr th:only-of-type {\n",
       "        vertical-align: middle;\n",
       "    }\n",
       "\n",
       "    .dataframe tbody tr th {\n",
       "        vertical-align: top;\n",
       "    }\n",
       "\n",
       "    .dataframe thead th {\n",
       "        text-align: right;\n",
       "    }\n",
       "</style>\n",
       "<table border=\"1\" class=\"dataframe\">\n",
       "  <thead>\n",
       "    <tr style=\"text-align: right;\">\n",
       "      <th></th>\n",
       "      <th>id</th>\n",
       "      <th>status_group</th>\n",
       "    </tr>\n",
       "  </thead>\n",
       "  <tbody>\n",
       "    <tr>\n",
       "      <th>0</th>\n",
       "      <td>69572</td>\n",
       "      <td>functional</td>\n",
       "    </tr>\n",
       "    <tr>\n",
       "      <th>1</th>\n",
       "      <td>8776</td>\n",
       "      <td>functional</td>\n",
       "    </tr>\n",
       "    <tr>\n",
       "      <th>2</th>\n",
       "      <td>34310</td>\n",
       "      <td>functional</td>\n",
       "    </tr>\n",
       "    <tr>\n",
       "      <th>3</th>\n",
       "      <td>67743</td>\n",
       "      <td>non functional</td>\n",
       "    </tr>\n",
       "    <tr>\n",
       "      <th>4</th>\n",
       "      <td>19728</td>\n",
       "      <td>functional</td>\n",
       "    </tr>\n",
       "    <tr>\n",
       "      <th>...</th>\n",
       "      <td>...</td>\n",
       "      <td>...</td>\n",
       "    </tr>\n",
       "    <tr>\n",
       "      <th>59395</th>\n",
       "      <td>60739</td>\n",
       "      <td>functional</td>\n",
       "    </tr>\n",
       "    <tr>\n",
       "      <th>59396</th>\n",
       "      <td>27263</td>\n",
       "      <td>functional</td>\n",
       "    </tr>\n",
       "    <tr>\n",
       "      <th>59397</th>\n",
       "      <td>37057</td>\n",
       "      <td>functional</td>\n",
       "    </tr>\n",
       "    <tr>\n",
       "      <th>59398</th>\n",
       "      <td>31282</td>\n",
       "      <td>functional</td>\n",
       "    </tr>\n",
       "    <tr>\n",
       "      <th>59399</th>\n",
       "      <td>26348</td>\n",
       "      <td>functional</td>\n",
       "    </tr>\n",
       "  </tbody>\n",
       "</table>\n",
       "<p>59400 rows × 2 columns</p>\n",
       "</div>"
      ],
      "text/plain": [
       "          id    status_group\n",
       "0      69572      functional\n",
       "1       8776      functional\n",
       "2      34310      functional\n",
       "3      67743  non functional\n",
       "4      19728      functional\n",
       "...      ...             ...\n",
       "59395  60739      functional\n",
       "59396  27263      functional\n",
       "59397  37057      functional\n",
       "59398  31282      functional\n",
       "59399  26348      functional\n",
       "\n",
       "[59400 rows x 2 columns]"
      ]
     },
     "execution_count": 3,
     "metadata": {},
     "output_type": "execute_result"
    }
   ],
   "source": [
    "y_train = pd.read_csv('../data/train_targets.csv')\n",
    "y_train"
   ]
  },
  {
   "cell_type": "code",
   "execution_count": 4,
   "metadata": {},
   "outputs": [
    {
     "name": "stdout",
     "output_type": "stream",
     "text": [
      "<class 'pandas.core.frame.DataFrame'>\n",
      "Int64Index: 59400 entries, 0 to 59399\n",
      "Data columns (total 41 columns):\n",
      " #   Column                 Non-Null Count  Dtype  \n",
      "---  ------                 --------------  -----  \n",
      " 0   id                     59400 non-null  int64  \n",
      " 1   amount_tsh             59400 non-null  float64\n",
      " 2   date_recorded          59400 non-null  object \n",
      " 3   funder                 55765 non-null  object \n",
      " 4   gps_height             59400 non-null  int64  \n",
      " 5   installer              55745 non-null  object \n",
      " 6   longitude              59400 non-null  float64\n",
      " 7   latitude               59400 non-null  float64\n",
      " 8   wpt_name               59400 non-null  object \n",
      " 9   num_private            59400 non-null  int64  \n",
      " 10  basin                  59400 non-null  object \n",
      " 11  subvillage             59029 non-null  object \n",
      " 12  region                 59400 non-null  object \n",
      " 13  region_code            59400 non-null  int64  \n",
      " 14  district_code          59400 non-null  int64  \n",
      " 15  lga                    59400 non-null  object \n",
      " 16  ward                   59400 non-null  object \n",
      " 17  population             59400 non-null  int64  \n",
      " 18  public_meeting         56066 non-null  object \n",
      " 19  recorded_by            59400 non-null  object \n",
      " 20  scheme_management      55523 non-null  object \n",
      " 21  scheme_name            31234 non-null  object \n",
      " 22  permit                 56344 non-null  object \n",
      " 23  construction_year      59400 non-null  int64  \n",
      " 24  extraction_type        59400 non-null  object \n",
      " 25  extraction_type_group  59400 non-null  object \n",
      " 26  extraction_type_class  59400 non-null  object \n",
      " 27  management             59400 non-null  object \n",
      " 28  management_group       59400 non-null  object \n",
      " 29  payment                59400 non-null  object \n",
      " 30  payment_type           59400 non-null  object \n",
      " 31  water_quality          59400 non-null  object \n",
      " 32  quality_group          59400 non-null  object \n",
      " 33  quantity               59400 non-null  object \n",
      " 34  quantity_group         59400 non-null  object \n",
      " 35  source                 59400 non-null  object \n",
      " 36  source_type            59400 non-null  object \n",
      " 37  source_class           59400 non-null  object \n",
      " 38  waterpoint_type        59400 non-null  object \n",
      " 39  waterpoint_type_group  59400 non-null  object \n",
      " 40  status_group           59400 non-null  object \n",
      "dtypes: float64(3), int64(7), object(31)\n",
      "memory usage: 19.0+ MB\n"
     ]
    }
   ],
   "source": [
    "df = X_train.merge(y_train, on='id')\n",
    "df.info()"
   ]
  },
  {
   "cell_type": "markdown",
   "metadata": {},
   "source": [
    "## 2. Date Recorded:\n",
    "date_recorded - According the the DrivenData [website](https://www.drivendata.org/competitions/7/pump-it-up-data-mining-the-water-table/page/25/), date_recorded refers to the day on which the row was entered into the database. "
   ]
  },
  {
   "cell_type": "markdown",
   "metadata": {},
   "source": [
    "Convert to datetime object to perform some descriptive statistics"
   ]
  },
  {
   "cell_type": "code",
   "execution_count": 5,
   "metadata": {},
   "outputs": [],
   "source": [
    "df['date_recorded'] = pd.to_datetime(df.date_recorded, yearfirst=True)"
   ]
  },
  {
   "cell_type": "code",
   "execution_count": 6,
   "metadata": {},
   "outputs": [
    {
     "data": {
      "text/plain": [
       "count                   59400\n",
       "unique                    356\n",
       "top       2011-03-15 00:00:00\n",
       "freq                      572\n",
       "first     2002-10-14 00:00:00\n",
       "last      2013-12-03 00:00:00\n",
       "Name: date_recorded, dtype: object"
      ]
     },
     "execution_count": 6,
     "metadata": {},
     "output_type": "execute_result"
    }
   ],
   "source": [
    "df.date_recorded.describe()"
   ]
  },
  {
   "cell_type": "markdown",
   "metadata": {},
   "source": [
    "#### Convert to a float so that the describe method will provide quartiles and averages"
   ]
  },
  {
   "cell_type": "code",
   "execution_count": 7,
   "metadata": {},
   "outputs": [],
   "source": [
    "def month_year_float(date_time):\n",
    "    \"\"\"\n",
    "    converts a datetime object to a float where whole numbers represent years\n",
    "    and the month is converted to a fraction of a year and added as a decimal.\n",
    "    \"\"\"\n",
    "    return date_time.year + (date_time.month-1)/12"
   ]
  },
  {
   "cell_type": "code",
   "execution_count": 8,
   "metadata": {},
   "outputs": [],
   "source": [
    "recorded_year_month = df.date_recorded.map(lambda x: month_year_float(x))"
   ]
  },
  {
   "cell_type": "code",
   "execution_count": 9,
   "metadata": {},
   "outputs": [
    {
     "data": {
      "text/plain": [
       "count    59400.000000\n",
       "mean      2012.202970\n",
       "std          0.913521\n",
       "min       2002.750000\n",
       "25%       2011.250000\n",
       "50%       2012.750000\n",
       "75%       2013.083333\n",
       "max       2013.916667\n",
       "Name: date_recorded, dtype: float64"
      ]
     },
     "execution_count": 9,
     "metadata": {},
     "output_type": "execute_result"
    }
   ],
   "source": [
    "recorded_year_month.describe()"
   ]
  },
  {
   "cell_type": "markdown",
   "metadata": {},
   "source": [
    "#### Most records were taken between 2011 and 2013 but some were taken in 2002. Here's a distribution to see how the dates compare."
   ]
  },
  {
   "cell_type": "code",
   "execution_count": 10,
   "metadata": {},
   "outputs": [
    {
     "data": {
      "text/plain": [
       "<matplotlib.axes._subplots.AxesSubplot at 0x7f746718b6a0>"
      ]
     },
     "execution_count": 10,
     "metadata": {},
     "output_type": "execute_result"
    },
    {
     "data": {
      "image/png": "[encoded data removed]",
      "text/plain": [
       "<Figure size 432x288 with 1 Axes>"
      ]
     },
     "metadata": {
      "needs_background": "light"
     },
     "output_type": "display_data"
    }
   ],
   "source": [
    "sns.distplot(recorded_year_month)"
   ]
  },
  {
   "cell_type": "markdown",
   "metadata": {},
   "source": [
    "It looks like many records were taken in early 2011 and 2012. These could indicate seasonal data collection schedules by the government, or they could represent seasonal waterpoint damage reports by taarifa."
   ]
  },
  {
   "cell_type": "markdown",
   "metadata": {},
   "source": [
    "### Do we have multiple records for a single well?\n",
    "This is important because it would allow us to zero in on the date at which the well became nonfunctional. We would need to find a unique identifier for each well to determine if the same well shows up more than once. There is no information on whether the id column indicates the id of the record or of the well, but if there are multiple records for each id then it is likely indicating the well. We can test this by checking how many unique values are in the id column. If it does not match the length of the dataframe, then it might be safe to assume that each id represents a well. If it does not match, then we still do not know either way."
   ]
  },
  {
   "cell_type": "code",
   "execution_count": 11,
   "metadata": {},
   "outputs": [
    {
     "data": {
      "text/plain": [
       "True"
      ]
     },
     "execution_count": 11,
     "metadata": {},
     "output_type": "execute_result"
    }
   ],
   "source": [
    "len(df.id) == len(df)"
   ]
  },
  {
   "cell_type": "markdown",
   "metadata": {},
   "source": [
    "#### If the id does not indicate an individual well, we'll look at the waterpoint name column 'wpt_name'. We'll look at the top 45 values to get an idea of how these waterpoints are named."
   ]
  },
  {
   "cell_type": "code",
   "execution_count": 12,
   "metadata": {},
   "outputs": [
    {
     "data": {
      "text/plain": [
       "none                 3563\n",
       "Shuleni              1748\n",
       "Zahanati              830\n",
       "Msikitini             535\n",
       "Kanisani              323\n",
       "Bombani               271\n",
       "Sokoni                260\n",
       "Ofisini               254\n",
       "School                208\n",
       "Shule Ya Msingi       199\n",
       "Shule                 152\n",
       "Sekondari             146\n",
       "Muungano              133\n",
       "Mkombozi              111\n",
       "Madukani              104\n",
       "Hospital               94\n",
       "Mbugani                94\n",
       "Upendo                 93\n",
       "Kituo Cha Afya         90\n",
       "Mkuyuni                88\n",
       "Umoja                  84\n",
       "Center                 83\n",
       "Ccm                    81\n",
       "Kisimani               78\n",
       "Ofisi Ya Kijiji        76\n",
       "Mtakuja                76\n",
       "Tankini                73\n",
       "Songambele             66\n",
       "Bwawani                66\n",
       "Maendeleo              64\n",
       "Bondeni                61\n",
       "Mbuyuni                59\n",
       "Uwanjani               57\n",
       "Kilabuni               55\n",
       "Mnadani                52\n",
       "Kijiweni               51\n",
       "Secondary              49\n",
       "Miembeni               49\n",
       "Rc Church              47\n",
       "Majengo                47\n",
       "Amani                  47\n",
       "Tank La Shule          47\n",
       "Shuleni Sekondari      47\n",
       "Mwembeni               45\n",
       "Church                 45\n",
       "Name: wpt_name, dtype: int64"
      ]
     },
     "execution_count": 12,
     "metadata": {},
     "output_type": "execute_result"
    }
   ],
   "source": [
    "df.wpt_name.value_counts()[:45]"
   ]
  },
  {
   "cell_type": "markdown",
   "metadata": {},
   "source": [
    "#### It looks like these names do not indicate unique waterpoints due to the fact that some are named Church, Hospital, or School with no specificity as to which location. As of right now, we do not know of any unique well identifiers."
   ]
  },
  {
   "cell_type": "markdown",
   "metadata": {},
   "source": [
    "# 3. Construction Year\n",
    "If wells are not properly maintained then we can expect that they will be less likely to be functional they older they get.\n",
    "First, let's take a look at the values in our construction_year column."
   ]
  },
  {
   "cell_type": "code",
   "execution_count": 13,
   "metadata": {},
   "outputs": [
    {
     "data": {
      "text/plain": [
       "0       20709\n",
       "2010     2645\n",
       "2008     2613\n",
       "2009     2533\n",
       "2000     2091\n",
       "2007     1587\n",
       "2006     1471\n",
       "2003     1286\n",
       "2011     1256\n",
       "2004     1123\n",
       "Name: construction_year, dtype: int64"
      ]
     },
     "execution_count": 13,
     "metadata": {},
     "output_type": "execute_result"
    }
   ],
   "source": [
    "df.construction_year.value_counts()[:10]"
   ]
  },
  {
   "cell_type": "markdown",
   "metadata": {},
   "source": [
    "#### We have many zero values which probably means that the value was not recorded. Here is the percentage of entries that lack a construction year."
   ]
  },
  {
   "cell_type": "code",
   "execution_count": 14,
   "metadata": {},
   "outputs": [
    {
     "data": {
      "text/plain": [
       "34.86363636363636"
      ]
     },
     "execution_count": 14,
     "metadata": {},
     "output_type": "execute_result"
    }
   ],
   "source": [
    "(len(df[df.construction_year == 0])/(len(df)))*100"
   ]
  },
  {
   "cell_type": "markdown",
   "metadata": {},
   "source": [
    "#### 35% of our data is missing construction year, which is a significant portion. For the purposes of this notebook we will exclude construction year. We will explore options for imputing these values later on."
   ]
  },
  {
   "cell_type": "code",
   "execution_count": 15,
   "metadata": {},
   "outputs": [],
   "source": [
    "has_year = df[df['construction_year'] !=0]"
   ]
  },
  {
   "cell_type": "code",
   "execution_count": 16,
   "metadata": {},
   "outputs": [
    {
     "data": {
      "text/plain": [
       "functional                 32259\n",
       "non functional             22824\n",
       "functional needs repair     4317\n",
       "Name: status_group, dtype: int64"
      ]
     },
     "execution_count": 16,
     "metadata": {},
     "output_type": "execute_result"
    }
   ],
   "source": [
    "df.status_group.value_counts()"
   ]
  },
  {
   "cell_type": "code",
   "execution_count": 17,
   "metadata": {},
   "outputs": [
    {
     "name": "stdout",
     "output_type": "stream",
     "text": [
      "<class 'pandas.core.frame.DataFrame'>\n",
      "Int64Index: 38691 entries, 0 to 59399\n",
      "Data columns (total 41 columns):\n",
      " #   Column                 Non-Null Count  Dtype         \n",
      "---  ------                 --------------  -----         \n",
      " 0   id                     38691 non-null  int64         \n",
      " 1   amount_tsh             38691 non-null  float64       \n",
      " 2   date_recorded          38691 non-null  datetime64[ns]\n",
      " 3   funder                 37350 non-null  object        \n",
      " 4   gps_height             38691 non-null  int64         \n",
      " 5   installer              37345 non-null  object        \n",
      " 6   longitude              38691 non-null  float64       \n",
      " 7   latitude               38691 non-null  float64       \n",
      " 8   wpt_name               38691 non-null  object        \n",
      " 9   num_private            38691 non-null  int64         \n",
      " 10  basin                  38691 non-null  object        \n",
      " 11  subvillage             38681 non-null  object        \n",
      " 12  region                 38691 non-null  object        \n",
      " 13  region_code            38691 non-null  int64         \n",
      " 14  district_code          38691 non-null  int64         \n",
      " 15  lga                    38691 non-null  object        \n",
      " 16  ward                   38691 non-null  object        \n",
      " 17  population             38691 non-null  int64         \n",
      " 18  public_meeting         36385 non-null  object        \n",
      " 19  recorded_by            38691 non-null  object        \n",
      " 20  scheme_management      36239 non-null  object        \n",
      " 21  scheme_name            23714 non-null  object        \n",
      " 22  permit                 36764 non-null  object        \n",
      " 23  construction_year      38691 non-null  int64         \n",
      " 24  extraction_type        38691 non-null  object        \n",
      " 25  extraction_type_group  38691 non-null  object        \n",
      " 26  extraction_type_class  38691 non-null  object        \n",
      " 27  management             38691 non-null  object        \n",
      " 28  management_group       38691 non-null  object        \n",
      " 29  payment                38691 non-null  object        \n",
      " 30  payment_type           38691 non-null  object        \n",
      " 31  water_quality          38691 non-null  object        \n",
      " 32  quality_group          38691 non-null  object        \n",
      " 33  quantity               38691 non-null  object        \n",
      " 34  quantity_group         38691 non-null  object        \n",
      " 35  source                 38691 non-null  object        \n",
      " 36  source_type            38691 non-null  object        \n",
      " 37  source_class           38691 non-null  object        \n",
      " 38  waterpoint_type        38691 non-null  object        \n",
      " 39  waterpoint_type_group  38691 non-null  object        \n",
      " 40  status_group           38691 non-null  object        \n",
      "dtypes: datetime64[ns](1), float64(3), int64(7), object(30)\n",
      "memory usage: 12.4+ MB\n"
     ]
    }
   ],
   "source": [
    "has_year = df[df['construction_year'] !=0].copy()\n",
    "has_year.info()"
   ]
  },
  {
   "cell_type": "markdown",
   "metadata": {},
   "source": [
    "## 4. Age\n",
    "Because the records were taken at different times, it would be more accurate to calculate the age of each well. To get the age of the well we will subtract the construction year from the date record."
   ]
  },
  {
   "cell_type": "code",
   "execution_count": 18,
   "metadata": {},
   "outputs": [],
   "source": [
    "has_year['age'] = has_year.date_recorded.map(lambda x: x.year) - has_year.construction_year"
   ]
  },
  {
   "cell_type": "code",
   "execution_count": 19,
   "metadata": {},
   "outputs": [
    {
     "data": {
      "text/plain": [
       " 3     2740\n",
       " 1     2303\n",
       " 2     2129\n",
       " 5     1980\n",
       " 4     1890\n",
       " 13    1869\n",
       " 7     1404\n",
       " 6     1381\n",
       " 11    1352\n",
       " 14    1160\n",
       " 8     1160\n",
       " 33    1120\n",
       " 15     993\n",
       " 23     905\n",
       " 10     868\n",
       " 16     826\n",
       " 9      814\n",
       " 19     766\n",
       " 27     762\n",
       " 18     754\n",
       " 28     709\n",
       " 31     709\n",
       " 35     647\n",
       " 17     636\n",
       " 39     601\n",
       " 37     600\n",
       " 26     589\n",
       " 0      588\n",
       " 25     583\n",
       " 21     578\n",
       " 29     564\n",
       " 12     559\n",
       " 20     541\n",
       " 41     488\n",
       " 30     359\n",
       " 43     356\n",
       " 38     351\n",
       " 36     325\n",
       " 22     323\n",
       " 24     261\n",
       " 40     233\n",
       " 34     184\n",
       " 32     174\n",
       " 53      91\n",
       " 42      90\n",
       " 50      84\n",
       " 45      66\n",
       " 46      48\n",
       " 44      47\n",
       " 48      41\n",
       " 51      31\n",
       " 49      25\n",
       " 47      14\n",
       " 52      11\n",
       "-5        3\n",
       "-4        2\n",
       "-7        1\n",
       "-3        1\n",
       "-2        1\n",
       "-1        1\n",
       "Name: age, dtype: int64"
      ]
     },
     "execution_count": 19,
     "metadata": {},
     "output_type": "execute_result"
    }
   ],
   "source": [
    "has_year.age.value_counts()"
   ]
  },
  {
   "cell_type": "markdown",
   "metadata": {},
   "source": [
    "#### Because of the negative values at the bottom of the list above, one of our columns is not accurate. Because these negative values represent such a small proportion of our dataset, we will drop them for the purposes of this analysis."
   ]
  },
  {
   "cell_type": "code",
   "execution_count": 20,
   "metadata": {},
   "outputs": [],
   "source": [
    "has_year = has_year[has_year['age']>0]"
   ]
  },
  {
   "cell_type": "markdown",
   "metadata": {},
   "source": [
    "#### Let's subset our data by the well status and see the age distributions for each one. If well age has an impact, we will likely see different distributions in each one. For simplicity, we will look only at functional and nonfucntional groups."
   ]
  },
  {
   "cell_type": "code",
   "execution_count": 21,
   "metadata": {},
   "outputs": [],
   "source": [
    "functional = has_year[has_year['status_group']=='functional']\n",
    "non_functional =  has_year[has_year['status_group']=='non functional']"
   ]
  },
  {
   "cell_type": "code",
   "execution_count": 22,
   "metadata": {},
   "outputs": [
    {
     "data": {
      "image/png": "[encoded data removed]",
      "text/plain": [
       "<Figure size 864x864 with 1 Axes>"
      ]
     },
     "metadata": {},
     "output_type": "display_data"
    }
   ],
   "source": [
    "plt.style.use('ggplot')\n",
    "\n",
    "fig, ax = plt.subplots(1,1,figsize=(12,12))\n",
    "\n",
    "sns.distplot(non_functional.age, ax=ax, label='Non-functional', hist=False, kde_kws = {'shade': True, 'linewidth': 3})\n",
    "sns.distplot(functional.age, ax=ax, label='Functional', hist=False, kde_kws = {'shade': True, 'linewidth': 3})\n",
    "ax.tick_params(axis='both', labelsize=35)\n",
    "ax.set_xlabel('Age in Years', fontsize=35)\n",
    "ax.set_ylabel('Kernel Density Estimate', fontsize=35)\n",
    "plt.legend(loc='upper right', fontsize=35)\n",
    "\n",
    "plt.tight_layout()\n",
    "# plt.savefig('../reports/figures/age_dist.png', transparent=True)"
   ]
  },
  {
   "cell_type": "markdown",
   "metadata": {},
   "source": [
    "#### The graph above shows a huge spike towards the left of te histogram, indicating a large portion of this subset is made up of relatively new wells between the ages of 0 and 10. The non-functional wells look to have a near uniform distribution with more non-functional than functional wells being between the ages of 25 and 45. Let's look at some descriptive statistics for each subset."
   ]
  },
  {
   "cell_type": "markdown",
   "metadata": {},
   "source": [
    "#### Functional Wells"
   ]
  },
  {
   "cell_type": "code",
   "execution_count": 23,
   "metadata": {},
   "outputs": [
    {
     "data": {
      "text/plain": [
       "count    21287.000000\n",
       "mean        12.409358\n",
       "std         10.868796\n",
       "min          1.000000\n",
       "25%          4.000000\n",
       "50%          9.000000\n",
       "75%         18.000000\n",
       "max         53.000000\n",
       "Name: age, dtype: float64"
      ]
     },
     "execution_count": 23,
     "metadata": {},
     "output_type": "execute_result"
    }
   ],
   "source": [
    "functional.age.describe()"
   ]
  },
  {
   "cell_type": "markdown",
   "metadata": {},
   "source": [
    "#### Non Fucntional Wells"
   ]
  },
  {
   "cell_type": "code",
   "execution_count": 24,
   "metadata": {},
   "outputs": [
    {
     "data": {
      "text/plain": [
       "count    14290.000000\n",
       "mean        20.050665\n",
       "std         13.182471\n",
       "min          1.000000\n",
       "25%          8.000000\n",
       "50%         18.000000\n",
       "75%         31.000000\n",
       "max         53.000000\n",
       "Name: age, dtype: float64"
      ]
     },
     "execution_count": 24,
     "metadata": {},
     "output_type": "execute_result"
    }
   ],
   "source": [
    "non_functional.age.describe()"
   ]
  },
  {
   "cell_type": "markdown",
   "metadata": {},
   "source": [
    "#### Difference between stats, positive number indicates a higher value for non-functional wells."
   ]
  },
  {
   "cell_type": "markdown",
   "metadata": {},
   "source": [
    "## 5. Results\n",
    "#### Correlation\n",
    "Let's see the correlation between age, construction year to see what kind of predicitve power they may have. First we'll need to convert the target to a numeric type. Because we still don't know the relationship between 'functional needs repair' and 'functional', we'll drop it from this part of the analysis."
   ]
  },
  {
   "cell_type": "code",
   "execution_count": 25,
   "metadata": {},
   "outputs": [],
   "source": [
    "has_year = has_year[has_year['status_group'] != 'functional needs repair']"
   ]
  },
  {
   "cell_type": "code",
   "execution_count": 26,
   "metadata": {},
   "outputs": [
    {
     "data": {
      "text/plain": [
       "0    21287\n",
       "1    14290\n",
       "Name: status_code, dtype: int64"
      ]
     },
     "execution_count": 26,
     "metadata": {},
     "output_type": "execute_result"
    }
   ],
   "source": [
    "status_code_numeric = {'functional': 0,\n",
    "                      'non functional': 1}\n",
    "\n",
    "has_year['status_code'] = has_year.status_group.replace(status_code_numeric)\n",
    "has_year.status_code.value_counts()"
   ]
  },
  {
   "cell_type": "code",
   "execution_count": 27,
   "metadata": {},
   "outputs": [
    {
     "data": {
      "text/html": [
       "<div>\n",
       "<style scoped>\n",
       "    .dataframe tbody tr th:only-of-type {\n",
       "        vertical-align: middle;\n",
       "    }\n",
       "\n",
       "    .dataframe tbody tr th {\n",
       "        vertical-align: top;\n",
       "    }\n",
       "\n",
       "    .dataframe thead th {\n",
       "        text-align: right;\n",
       "    }\n",
       "</style>\n",
       "<table border=\"1\" class=\"dataframe\">\n",
       "  <thead>\n",
       "    <tr style=\"text-align: right;\">\n",
       "      <th></th>\n",
       "      <th>age</th>\n",
       "      <th>construction_year</th>\n",
       "      <th>status_code</th>\n",
       "    </tr>\n",
       "  </thead>\n",
       "  <tbody>\n",
       "    <tr>\n",
       "      <th>age</th>\n",
       "      <td>1.000000</td>\n",
       "      <td>-0.996904</td>\n",
       "      <td>0.301369</td>\n",
       "    </tr>\n",
       "    <tr>\n",
       "      <th>construction_year</th>\n",
       "      <td>-0.996904</td>\n",
       "      <td>1.000000</td>\n",
       "      <td>-0.297858</td>\n",
       "    </tr>\n",
       "    <tr>\n",
       "      <th>status_code</th>\n",
       "      <td>0.301369</td>\n",
       "      <td>-0.297858</td>\n",
       "      <td>1.000000</td>\n",
       "    </tr>\n",
       "  </tbody>\n",
       "</table>\n",
       "</div>"
      ],
      "text/plain": [
       "                        age  construction_year  status_code\n",
       "age                1.000000          -0.996904     0.301369\n",
       "construction_year -0.996904           1.000000    -0.297858\n",
       "status_code        0.301369          -0.297858     1.000000"
      ]
     },
     "execution_count": 27,
     "metadata": {},
     "output_type": "execute_result"
    }
   ],
   "source": [
    "has_year.loc[:,['age', 'construction_year', 'status_code']].corr()"
   ]
  },
  {
   "cell_type": "markdown",
   "metadata": {},
   "source": [
    "There seems to be a stronger correlation between age and status, compared to construction year, but still quite low. Because the dependant variable is categorical and the independant variable is continuous we will use a default decision tree to further measure its predicitive power."
   ]
  },
  {
   "cell_type": "code",
   "execution_count": 36,
   "metadata": {},
   "outputs": [],
   "source": [
    "from sklearn.tree import DecisionTreeClassifier\n",
    "\n",
    "dt = DecisionTreeClassifier()"
   ]
  },
  {
   "cell_type": "markdown",
   "metadata": {},
   "source": [
    "Split"
   ]
  },
  {
   "cell_type": "code",
   "execution_count": 37,
   "metadata": {},
   "outputs": [],
   "source": [
    "x = has_year.loc[:,['age']]\n",
    "y = has_year['status_code']"
   ]
  },
  {
   "cell_type": "markdown",
   "metadata": {},
   "source": [
    "Fit and score"
   ]
  },
  {
   "cell_type": "code",
   "execution_count": 38,
   "metadata": {},
   "outputs": [
    {
     "name": "stdout",
     "output_type": "stream",
     "text": [
      "Accuracy: 66.59%\n"
     ]
    }
   ],
   "source": [
    "dt.fit(x, y)\n",
    "result = dt.score(x, y)\n",
    "print(f'Accuracy: {round(result*100, 2)}%')"
   ]
  },
  {
   "cell_type": "markdown",
   "metadata": {},
   "source": [
    "Given just the age of the well, we can predict it's functionality about 16% better than randomly guessing. This indicates a weak but useful predictive power.\n",
    "\n",
    "To-do:\n",
    " - Investigate class imbalance\n",
    " - Handle missing year values"
   ]
  },
  {
   "cell_type": "code",
   "execution_count": null,
   "metadata": {},
   "outputs": [],
   "source": []
  }
 ],
 "metadata": {
  "kernelspec": {
   "display_name": "Python 3",
   "language": "python",
   "name": "python3"
  },
  "language_info": {
   "codemirror_mode": {
    "name": "ipython",
    "version": 3
   },
   "file_extension": ".py",
   "mimetype": "text/x-python",
   "name": "python",
   "nbconvert_exporter": "python",
   "pygments_lexer": "ipython3",
   "version": "3.8.3"
  }
 },
 "nbformat": 4,
 "nbformat_minor": 4
}
