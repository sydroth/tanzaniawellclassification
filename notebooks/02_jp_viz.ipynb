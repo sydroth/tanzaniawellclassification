{
 "cells": [
  {
   "cell_type": "markdown",
   "metadata": {},
   "source": [
    "# Jacob Prebys Viz Exploratory\n",
    "\n",
    "Doing some more exploratory vizualizations in this one"
   ]
  },
  {
   "cell_type": "code",
   "execution_count": 9,
   "metadata": {},
   "outputs": [],
   "source": [
    "import pandas as pd\n",
    "import numpy as np\n",
    "import matplotlib.pyplot as plt\n",
    "plt.style.use('fivethirtyeight')\n",
    "from bokeh.plotting import figure, output_file, show\n",
    "pd.set_option('display.max_columns', 500)\n",
    "params = {'legend.fontsize': 'x-large',\n",
    "         'axes.labelsize': 24,\n",
    "         'axes.titlesize':24,\n",
    "         'xtick.labelsize':20,\n",
    "         'ytick.labelsize':24}\n",
    "plt.rcParams.update(params)"
   ]
  },
  {
   "cell_type": "markdown",
   "metadata": {},
   "source": [
    "Reading in our data in the same way as my previous notebook"
   ]
  },
  {
   "cell_type": "code",
   "execution_count": 2,
   "metadata": {},
   "outputs": [],
   "source": [
    "X_raw = pd.read_csv('../data/train_data.csv', dtype={'id': object})\n",
    "y_raw = pd.read_csv('../data/train_targets.csv', dtype={'id': object})\n",
    "\n",
    "# Join the two tables using their 'id' column\n",
    "df = y_raw.set_index('id').join(X_raw.set_index('id'))"
   ]
  },
  {
   "cell_type": "markdown",
   "metadata": {},
   "source": [
    "Going to do some research into the effect that a water point's region has on its functionality"
   ]
  },
  {
   "cell_type": "code",
   "execution_count": 3,
   "metadata": {},
   "outputs": [
    {
     "data": {
      "text/html": [
       "<div>\n",
       "<style scoped>\n",
       "    .dataframe tbody tr th:only-of-type {\n",
       "        vertical-align: middle;\n",
       "    }\n",
       "\n",
       "    .dataframe tbody tr th {\n",
       "        vertical-align: top;\n",
       "    }\n",
       "\n",
       "    .dataframe thead th {\n",
       "        text-align: right;\n",
       "    }\n",
       "</style>\n",
       "<table border=\"1\" class=\"dataframe\">\n",
       "  <thead>\n",
       "    <tr style=\"text-align: right;\">\n",
       "      <th></th>\n",
       "      <th></th>\n",
       "      <th>status_group</th>\n",
       "    </tr>\n",
       "    <tr>\n",
       "      <th>region</th>\n",
       "      <th>status_group</th>\n",
       "      <th></th>\n",
       "    </tr>\n",
       "  </thead>\n",
       "  <tbody>\n",
       "    <tr>\n",
       "      <th rowspan=\"3\" valign=\"top\">Arusha</th>\n",
       "      <th>functional</th>\n",
       "      <td>2294</td>\n",
       "    </tr>\n",
       "    <tr>\n",
       "      <th>non functional</th>\n",
       "      <td>881</td>\n",
       "    </tr>\n",
       "    <tr>\n",
       "      <th>functional needs repair</th>\n",
       "      <td>175</td>\n",
       "    </tr>\n",
       "    <tr>\n",
       "      <th rowspan=\"2\" valign=\"top\">Dar es Salaam</th>\n",
       "      <th>functional</th>\n",
       "      <td>461</td>\n",
       "    </tr>\n",
       "    <tr>\n",
       "      <th>non functional</th>\n",
       "      <td>341</td>\n",
       "    </tr>\n",
       "    <tr>\n",
       "      <th>...</th>\n",
       "      <th>...</th>\n",
       "      <td>...</td>\n",
       "    </tr>\n",
       "    <tr>\n",
       "      <th rowspan=\"2\" valign=\"top\">Tabora</th>\n",
       "      <th>functional</th>\n",
       "      <td>848</td>\n",
       "    </tr>\n",
       "    <tr>\n",
       "      <th>functional needs repair</th>\n",
       "      <td>45</td>\n",
       "    </tr>\n",
       "    <tr>\n",
       "      <th rowspan=\"3\" valign=\"top\">Tanga</th>\n",
       "      <th>functional</th>\n",
       "      <td>1436</td>\n",
       "    </tr>\n",
       "    <tr>\n",
       "      <th>non functional</th>\n",
       "      <td>1038</td>\n",
       "    </tr>\n",
       "    <tr>\n",
       "      <th>functional needs repair</th>\n",
       "      <td>73</td>\n",
       "    </tr>\n",
       "  </tbody>\n",
       "</table>\n",
       "<p>63 rows × 1 columns</p>\n",
       "</div>"
      ],
      "text/plain": [
       "                                       status_group\n",
       "region        status_group                         \n",
       "Arusha        functional                       2294\n",
       "              non functional                    881\n",
       "              functional needs repair           175\n",
       "Dar es Salaam functional                        461\n",
       "              non functional                    341\n",
       "...                                             ...\n",
       "Tabora        functional                        848\n",
       "              functional needs repair            45\n",
       "Tanga         functional                       1436\n",
       "              non functional                   1038\n",
       "              functional needs repair            73\n",
       "\n",
       "[63 rows x 1 columns]"
      ]
     },
     "execution_count": 3,
     "metadata": {},
     "output_type": "execute_result"
    }
   ],
   "source": [
    "region_status = pd.DataFrame(df.groupby('region')['status_group'].value_counts())\n",
    "region_status"
   ]
  },
  {
   "cell_type": "markdown",
   "metadata": {},
   "source": [
    "I think this would be more useful as an unstacked DataFrame"
   ]
  },
  {
   "cell_type": "code",
   "execution_count": 4,
   "metadata": {},
   "outputs": [
    {
     "data": {
      "text/html": [
       "<div>\n",
       "<style scoped>\n",
       "    .dataframe tbody tr th:only-of-type {\n",
       "        vertical-align: middle;\n",
       "    }\n",
       "\n",
       "    .dataframe tbody tr th {\n",
       "        vertical-align: top;\n",
       "    }\n",
       "\n",
       "    .dataframe thead th {\n",
       "        text-align: right;\n",
       "    }\n",
       "</style>\n",
       "<table border=\"1\" class=\"dataframe\">\n",
       "  <thead>\n",
       "    <tr style=\"text-align: right;\">\n",
       "      <th>status_group</th>\n",
       "      <th>functional</th>\n",
       "      <th>functional needs repair</th>\n",
       "      <th>non functional</th>\n",
       "    </tr>\n",
       "    <tr>\n",
       "      <th>region</th>\n",
       "      <th></th>\n",
       "      <th></th>\n",
       "      <th></th>\n",
       "    </tr>\n",
       "  </thead>\n",
       "  <tbody>\n",
       "    <tr>\n",
       "      <th>Arusha</th>\n",
       "      <td>2294</td>\n",
       "      <td>175</td>\n",
       "      <td>881</td>\n",
       "    </tr>\n",
       "    <tr>\n",
       "      <th>Dar es Salaam</th>\n",
       "      <td>461</td>\n",
       "      <td>3</td>\n",
       "      <td>341</td>\n",
       "    </tr>\n",
       "    <tr>\n",
       "      <th>Dodoma</th>\n",
       "      <td>1009</td>\n",
       "      <td>209</td>\n",
       "      <td>983</td>\n",
       "    </tr>\n",
       "    <tr>\n",
       "      <th>Iringa</th>\n",
       "      <td>4141</td>\n",
       "      <td>123</td>\n",
       "      <td>1030</td>\n",
       "    </tr>\n",
       "    <tr>\n",
       "      <th>Kagera</th>\n",
       "      <td>1727</td>\n",
       "      <td>304</td>\n",
       "      <td>1285</td>\n",
       "    </tr>\n",
       "    <tr>\n",
       "      <th>Kigoma</th>\n",
       "      <td>1363</td>\n",
       "      <td>603</td>\n",
       "      <td>850</td>\n",
       "    </tr>\n",
       "    <tr>\n",
       "      <th>Kilimanjaro</th>\n",
       "      <td>2640</td>\n",
       "      <td>322</td>\n",
       "      <td>1417</td>\n",
       "    </tr>\n",
       "    <tr>\n",
       "      <th>Lindi</th>\n",
       "      <td>460</td>\n",
       "      <td>93</td>\n",
       "      <td>993</td>\n",
       "    </tr>\n",
       "    <tr>\n",
       "      <th>Manyara</th>\n",
       "      <td>987</td>\n",
       "      <td>96</td>\n",
       "      <td>500</td>\n",
       "    </tr>\n",
       "    <tr>\n",
       "      <th>Mara</th>\n",
       "      <td>886</td>\n",
       "      <td>60</td>\n",
       "      <td>1023</td>\n",
       "    </tr>\n",
       "    <tr>\n",
       "      <th>Mbeya</th>\n",
       "      <td>2319</td>\n",
       "      <td>504</td>\n",
       "      <td>1816</td>\n",
       "    </tr>\n",
       "    <tr>\n",
       "      <th>Morogoro</th>\n",
       "      <td>2119</td>\n",
       "      <td>300</td>\n",
       "      <td>1587</td>\n",
       "    </tr>\n",
       "    <tr>\n",
       "      <th>Mtwara</th>\n",
       "      <td>524</td>\n",
       "      <td>126</td>\n",
       "      <td>1080</td>\n",
       "    </tr>\n",
       "    <tr>\n",
       "      <th>Mwanza</th>\n",
       "      <td>1502</td>\n",
       "      <td>183</td>\n",
       "      <td>1417</td>\n",
       "    </tr>\n",
       "    <tr>\n",
       "      <th>Pwani</th>\n",
       "      <td>1556</td>\n",
       "      <td>36</td>\n",
       "      <td>1043</td>\n",
       "    </tr>\n",
       "    <tr>\n",
       "      <th>Rukwa</th>\n",
       "      <td>707</td>\n",
       "      <td>135</td>\n",
       "      <td>966</td>\n",
       "    </tr>\n",
       "    <tr>\n",
       "      <th>Ruvuma</th>\n",
       "      <td>1480</td>\n",
       "      <td>164</td>\n",
       "      <td>996</td>\n",
       "    </tr>\n",
       "    <tr>\n",
       "      <th>Shinyanga</th>\n",
       "      <td>2789</td>\n",
       "      <td>635</td>\n",
       "      <td>1558</td>\n",
       "    </tr>\n",
       "    <tr>\n",
       "      <th>Singida</th>\n",
       "      <td>1011</td>\n",
       "      <td>128</td>\n",
       "      <td>954</td>\n",
       "    </tr>\n",
       "    <tr>\n",
       "      <th>Tabora</th>\n",
       "      <td>848</td>\n",
       "      <td>45</td>\n",
       "      <td>1066</td>\n",
       "    </tr>\n",
       "    <tr>\n",
       "      <th>Tanga</th>\n",
       "      <td>1436</td>\n",
       "      <td>73</td>\n",
       "      <td>1038</td>\n",
       "    </tr>\n",
       "  </tbody>\n",
       "</table>\n",
       "</div>"
      ],
      "text/plain": [
       "status_group   functional  functional needs repair  non functional\n",
       "region                                                            \n",
       "Arusha               2294                      175             881\n",
       "Dar es Salaam         461                        3             341\n",
       "Dodoma               1009                      209             983\n",
       "Iringa               4141                      123            1030\n",
       "Kagera               1727                      304            1285\n",
       "Kigoma               1363                      603             850\n",
       "Kilimanjaro          2640                      322            1417\n",
       "Lindi                 460                       93             993\n",
       "Manyara               987                       96             500\n",
       "Mara                  886                       60            1023\n",
       "Mbeya                2319                      504            1816\n",
       "Morogoro             2119                      300            1587\n",
       "Mtwara                524                      126            1080\n",
       "Mwanza               1502                      183            1417\n",
       "Pwani                1556                       36            1043\n",
       "Rukwa                 707                      135             966\n",
       "Ruvuma               1480                      164             996\n",
       "Shinyanga            2789                      635            1558\n",
       "Singida              1011                      128             954\n",
       "Tabora                848                       45            1066\n",
       "Tanga                1436                       73            1038"
      ]
     },
     "execution_count": 4,
     "metadata": {},
     "output_type": "execute_result"
    }
   ],
   "source": [
    "reg = df.groupby('region')['status_group'].value_counts().unstack()\n",
    "reg"
   ]
  },
  {
   "cell_type": "markdown",
   "metadata": {},
   "source": [
    "Making some new columns...i know this is not the most efficient way to do this"
   ]
  },
  {
   "cell_type": "code",
   "execution_count": 5,
   "metadata": {},
   "outputs": [],
   "source": [
    "reg['pfunc'] = reg['functional'] / (reg['functional']\n",
    "                                    + reg['functional needs repair']\n",
    "                                    + reg['non functional'])\n",
    "reg['prep'] = reg['functional needs repair'] / (reg['functional']\n",
    "                                    + reg['functional needs repair']\n",
    "                                    + reg['non functional'])\n",
    "reg['pnon'] = reg['non functional'] / (reg['functional']\n",
    "                                    + reg['functional needs repair']\n",
    "                                    + reg['non functional'])"
   ]
  },
  {
   "cell_type": "markdown",
   "metadata": {},
   "source": [
    "Going to get just the 2 regions with the highest proportion of functional water points, and then the 2 regions with the lowest"
   ]
  },
  {
   "cell_type": "code",
   "execution_count": 6,
   "metadata": {},
   "outputs": [],
   "source": [
    "ratios = reg.drop(['functional', 'functional needs repair', 'non functional'], axis=1)\n",
    "rename = {'pfunc':'functional','prep':'functional needs repair' , 'pnon':'non functional'}\n",
    "ratios.rename(columns=rename, inplace=True)"
   ]
  },
  {
   "cell_type": "code",
   "execution_count": 7,
   "metadata": {},
   "outputs": [],
   "source": [
    "sortedx = ratios.sort_values('functional')\n",
    "extreme = pd.concat([sortedx.head(2), sortedx.tail(2)])"
   ]
  },
  {
   "cell_type": "markdown",
   "metadata": {},
   "source": [
    "Now I'll plot these 4 regions as a segmented bar plot"
   ]
  },
  {
   "cell_type": "code",
   "execution_count": 14,
   "metadata": {},
   "outputs": [
    {
     "data": {
      "image/png": "[encoded data removed]",
      "text/plain": [
       "<Figure size 1800x1008 with 1 Axes>"
      ]
     },
     "metadata": {},
     "output_type": "display_data"
    }
   ],
   "source": [
    "plt.rcParams.update({'font.size': 25})\n",
    "fig, ax = plt.subplots(figsize=(25,14))\n",
    "ax.set_title('Water Point Status Disparity in Select Regions',\n",
    "             fontdict={'fontsize':36})\n",
    "\n",
    "ax.set_xlabel('Proportion')\n",
    "ax.set_xlim(0,1)\n",
    "extreme.plot.barh(stacked=True, ax=ax);\n",
    "ax.set_ylabel('Region',)\n",
    "ax.legend(fontsize=18, bbox_to_anchor=(1,1));\n",
    "plt.tight_layout(pad=7)\n",
    "plt.savefig('../reports/figures/region_disparity.png', tranparent=True)"
   ]
  },
  {
   "cell_type": "markdown",
   "metadata": {},
   "source": [
    "*That's a nice plot*"
   ]
  },
  {
   "cell_type": "code",
   "execution_count": null,
   "metadata": {},
   "outputs": [],
   "source": []
  }
 ],
 "metadata": {
  "kernelspec": {
   "display_name": "learn-env",
   "language": "python",
   "name": "learn-env"
  },
  "language_info": {
   "codemirror_mode": {
    "name": "ipython",
    "version": 3
   },
   "file_extension": ".py",
   "mimetype": "text/x-python",
   "name": "python",
   "nbconvert_exporter": "python",
   "pygments_lexer": "ipython3",
   "version": "3.6.10"
  }
 },
 "nbformat": 4,
 "nbformat_minor": 4
}
