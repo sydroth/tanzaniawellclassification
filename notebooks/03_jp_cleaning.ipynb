{
 "cells": [
  {
   "cell_type": "markdown",
   "metadata": {},
   "source": [
    "# JP Data Cleaning\n",
    "\n",
    "Going to explore the locational columns and make a couple of functions to tidy them up"
   ]
  },
  {
   "cell_type": "code",
   "execution_count": 1,
   "metadata": {},
   "outputs": [],
   "source": [
    "import pandas as pd\n",
    "import numpy as np\n",
    "import matplotlib.pyplot as plt"
   ]
  },
  {
   "cell_type": "code",
   "execution_count": 2,
   "metadata": {},
   "outputs": [],
   "source": [
    "X_raw = pd.read_csv('../data/train_data.csv', dtype={'id': object})\n",
    "y_raw = pd.read_csv('../data/train_targets.csv', dtype={'id': object})\n",
    "\n",
    "# Join the two tables using their 'id' column\n",
    "df = y_raw.set_index('id').join(X_raw.set_index('id'))"
   ]
  },
  {
   "cell_type": "markdown",
   "metadata": {},
   "source": [
    "UNASSIGNED -  'num_private', 'basin', 'population'"
   ]
  },
  {
   "cell_type": "markdown",
   "metadata": {},
   "source": [
    "IGNORE - 'id', 'recorded_by', 'wpt_name'"
   ]
  },
  {
   "cell_type": "markdown",
   "metadata": {},
   "source": [
    "subgroups of 'region' - 'subvillage', 'region_code', 'district_code', 'ward'"
   ]
  },
  {
   "cell_type": "code",
   "execution_count": 167,
   "metadata": {},
   "outputs": [
    {
     "data": {
      "text/plain": [
       "Igosi        307\n",
       "Imalinyi     252\n",
       "Siha Kati    232\n",
       "Mdandu       231\n",
       "Nduruma      217\n",
       "            ... \n",
       "Matarawe       1\n",
       "Mkumbi         1\n",
       "Kitete         1\n",
       "Nsemulwa       1\n",
       "Chinugulu      1\n",
       "Name: ward, Length: 2092, dtype: int64"
      ]
     },
     "execution_count": 167,
     "metadata": {},
     "output_type": "execute_result"
    }
   ],
   "source": [
    "df.ward.value_counts()"
   ]
  },
  {
   "cell_type": "markdown",
   "metadata": {},
   "source": [
    "**LGA column seems to have some hidden info in it**\n",
    "\n",
    "it seems to be a more specific district list, with some entries being marked 'urban' or 'rural'\n",
    "\n",
    "i'm going to try to separate these entries out using the following encoding"
   ]
  },
  {
   "cell_type": "code",
   "execution_count": 163,
   "metadata": {},
   "outputs": [],
   "source": [
    "def encode_lga(df):\n",
    "    '''\n",
    "    encodes the 'lga' column into the values\n",
    "    'rural', 'urban', and 'other'\n",
    "    \n",
    "    returns DataFrame with column 'lga_coded'\n",
    "    '''\n",
    "    \n",
    "    lga_e = []\n",
    "    \n",
    "    for entry in df.lga:\n",
    "        key = entry.split()[-1]\n",
    "        if key == 'Rural':\n",
    "            lga_e.append('rural')\n",
    "        elif key == 'Urban':\n",
    "            lga_e.append('urban')\n",
    "        else:\n",
    "            lga_e.append('other')\n",
    "    \n",
    "    df['lga_coded'] = lga_e\n",
    "    return df.drop('lga', axis=1)"
   ]
  },
  {
   "cell_type": "markdown",
   "metadata": {},
   "source": [
    "Now let's see how many of each value we get"
   ]
  },
  {
   "cell_type": "code",
   "execution_count": 102,
   "metadata": {},
   "outputs": [
    {
     "data": {
      "text/plain": [
       "other    48165\n",
       "rural     9552\n",
       "urban     1683\n",
       "Name: lga_coded, dtype: int64"
      ]
     },
     "execution_count": 102,
     "metadata": {},
     "output_type": "execute_result"
    }
   ],
   "source": [
    "encode_lga(df).lga_coded.value_counts()"
   ]
  },
  {
   "cell_type": "markdown",
   "metadata": {},
   "source": [
    "Maybe this is not too good, although it does highlight a lot of water points as rural\n",
    "\n",
    "Next i'm going to make a function to bin the different regions"
   ]
  },
  {
   "cell_type": "code",
   "execution_count": 168,
   "metadata": {},
   "outputs": [],
   "source": [
    "def encode_region(df, num_of_bins=5):\n",
    "    '''\n",
    "    Takes in Tanzania Water Point Data, groups by region,\n",
    "    sorts regions by proportion of non-functional wells,\n",
    "    and bins them in equally-sized bins according to\n",
    "    num_of_bins parameter\n",
    "    \n",
    "    \n",
    "    returns: DataFrame with 'region_bins' column added\n",
    "             and with 'region' and 'region_code' columns dropped\n",
    "    '''\n",
    "    \n",
    "    #group DataFrame by region and count each type of waterpoint\n",
    "    reg = df.groupby('region')['status_group'].value_counts().unstack()\n",
    "\n",
    "    #calculate proportion of non-functional waterpoints in each region\n",
    "    reg['total'] = reg.sum(axis=1)\n",
    "    reg['non'] = reg['non functional'] / reg['total']\n",
    "\n",
    "    #sort by that proportion\n",
    "    reg = reg.sort_values('non')\n",
    "\n",
    "    #sort regions into specified number of equally wide bins\n",
    "    bin_labels = list(range(num_of_bins))\n",
    "    reg['region_bins'] = pd.cut(reg.non, bins=num_of_bins,\n",
    "                          labels=bin_labels)\n",
    "    codes = reg.region_bins\n",
    "        \n",
    "    #return bin numbers attached to dataframe\n",
    "    return df.join(codes, on='region').drop(['region','region_code'], axis=1)"
   ]
  },
  {
   "cell_type": "code",
   "execution_count": 162,
   "metadata": {},
   "outputs": [
    {
     "data": {
      "text/plain": [
       "2    19783\n",
       "1    13760\n",
       "0     8644\n",
       "3     8201\n",
       "4     5736\n",
       "5     3276\n",
       "Name: region_bins, dtype: int64"
      ]
     },
     "execution_count": 162,
     "metadata": {},
     "output_type": "execute_result"
    }
   ],
   "source": [
    "encode_region(df, 6)['region_bins'].value_counts()"
   ]
  },
  {
   "cell_type": "markdown",
   "metadata": {},
   "source": [
    "### That's nice"
   ]
  },
  {
   "cell_type": "code",
   "execution_count": 149,
   "metadata": {},
   "outputs": [],
   "source": [
    "pop_no_0 = df[df.population != 0]\n",
    "pop_0 = df[df.population == 0]"
   ]
  },
  {
   "cell_type": "code",
   "execution_count": 150,
   "metadata": {},
   "outputs": [
    {
     "data": {
      "text/html": [
       "<div>\n",
       "<style scoped>\n",
       "    .dataframe tbody tr th:only-of-type {\n",
       "        vertical-align: middle;\n",
       "    }\n",
       "\n",
       "    .dataframe tbody tr th {\n",
       "        vertical-align: top;\n",
       "    }\n",
       "\n",
       "    .dataframe thead th {\n",
       "        text-align: right;\n",
       "    }\n",
       "</style>\n",
       "<table border=\"1\" class=\"dataframe\">\n",
       "  <thead>\n",
       "    <tr style=\"text-align: right;\">\n",
       "      <th></th>\n",
       "      <th>status_group</th>\n",
       "      <th>status_group</th>\n",
       "    </tr>\n",
       "  </thead>\n",
       "  <tbody>\n",
       "    <tr>\n",
       "      <th>functional</th>\n",
       "      <td>11274</td>\n",
       "      <td>20985</td>\n",
       "    </tr>\n",
       "    <tr>\n",
       "      <th>non functional</th>\n",
       "      <td>8332</td>\n",
       "      <td>14492</td>\n",
       "    </tr>\n",
       "    <tr>\n",
       "      <th>functional needs repair</th>\n",
       "      <td>1775</td>\n",
       "      <td>2542</td>\n",
       "    </tr>\n",
       "  </tbody>\n",
       "</table>\n",
       "</div>"
      ],
      "text/plain": [
       "                         status_group  status_group\n",
       "functional                      11274         20985\n",
       "non functional                   8332         14492\n",
       "functional needs repair          1775          2542"
      ]
     },
     "execution_count": 150,
     "metadata": {},
     "output_type": "execute_result"
    }
   ],
   "source": [
    "pd.concat([pop_0.status_group.value_counts(),pop_no_0.status_group.value_counts()], axis=1)"
   ]
  },
  {
   "cell_type": "code",
   "execution_count": 151,
   "metadata": {},
   "outputs": [],
   "source": [
    "pop_no_0 = pop_no_0[['status_group', 'population']]\n",
    "pop_0 = pop_0[['status_group', 'population']]"
   ]
  },
  {
   "cell_type": "code",
   "execution_count": 152,
   "metadata": {},
   "outputs": [
    {
     "data": {
      "text/plain": [
       "<matplotlib.collections.PathCollection at 0x267ac4b2dd8>"
      ]
     },
     "execution_count": 152,
     "metadata": {},
     "output_type": "execute_result"
    },
    {
     "data": {
      "image/png": "[encoded data removed]",
      "text/plain": [
       "<Figure size 432x288 with 1 Axes>"
      ]
     },
     "metadata": {
      "needs_background": "light"
     },
     "output_type": "display_data"
    }
   ],
   "source": [
    "plt.scatter(pop_no_0.status_group, pop_no_0.population)"
   ]
  },
  {
   "cell_type": "code",
   "execution_count": 154,
   "metadata": {},
   "outputs": [
    {
     "data": {
      "text/plain": [
       "<matplotlib.axes._subplots.AxesSubplot at 0x267ac55f7f0>"
      ]
     },
     "execution_count": 154,
     "metadata": {},
     "output_type": "execute_result"
    },
    {
     "data": {
      "image/png": "[encoded data removed]",
      "text/plain": [
       "<Figure size 432x288 with 1 Axes>"
      ]
     },
     "metadata": {
      "needs_background": "light"
     },
     "output_type": "display_data"
    }
   ],
   "source": [
    "pop_no_0.population.hist(bins=100)"
   ]
  },
  {
   "cell_type": "code",
   "execution_count": 166,
   "metadata": {},
   "outputs": [
    {
     "data": {
      "text/plain": [
       "(21381, 2)"
      ]
     },
     "execution_count": 166,
     "metadata": {},
     "output_type": "execute_result"
    }
   ],
   "source": [
    "pop_0.shape"
   ]
  },
  {
   "cell_type": "code",
   "execution_count": null,
   "metadata": {},
   "outputs": [],
   "source": []
  }
 ],
 "metadata": {
  "kernelspec": {
   "display_name": "learn-env",
   "language": "python",
   "name": "learn-env"
  },
  "language_info": {
   "codemirror_mode": {
    "name": "ipython",
    "version": 3
   },
   "file_extension": ".py",
   "mimetype": "text/x-python",
   "name": "python",
   "nbconvert_exporter": "python",
   "pygments_lexer": "ipython3",
   "version": "3.6.10"
  }
 },
 "nbformat": 4,
 "nbformat_minor": 4
}
