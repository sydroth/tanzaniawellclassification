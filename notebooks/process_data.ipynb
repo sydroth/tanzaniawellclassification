{
 "cells": [
  {
   "cell_type": "code",
   "execution_count": 1,
   "metadata": {},
   "outputs": [
    {
     "name": "stderr",
     "output_type": "stream",
     "text": [
      "/home/max/anaconda3/envs/tanzania/lib/python3.8/site-packages/fuzzywuzzy/fuzz.py:11: UserWarning: Using slow pure-python SequenceMatcher. Install python-Levenshtein to remove this warning\n",
      "  warnings.warn('Using slow pure-python SequenceMatcher. Install python-Levenshtein to remove this warning')\n"
     ]
    }
   ],
   "source": [
    "%load_ext autoreload\n",
    "%autoreload 2\n",
    "\n",
    "import os\n",
    "import sys\n",
    "\n",
    "module_path = os.path.abspath(os.pardir)\n",
    "if module_path not in sys.path:\n",
    "    sys.path.append(module_path)\n",
    "import pandas as pd\n",
    "import numpy as np\n",
    "import matplotlib.pyplot as plt\n",
    "import seaborn as sns\n",
    "import matplotlib\n",
    "from scipy import stats\n",
    "from src import mef_test\n",
    "import sklearn\n",
    "from src import functions"
   ]
  },
  {
   "cell_type": "code",
   "execution_count": 4,
   "metadata": {},
   "outputs": [
    {
     "name": "stderr",
     "output_type": "stream",
     "text": [
      "/home/max/flatiron/chi-ds/module_3/week_3/projects/tanzaniawellclassification/src/functions.py:564: SettingWithCopyWarning: \n",
      "A value is trying to be set on a copy of a slice from a DataFrame.\n",
      "Try using .loc[row_indexer,col_indexer] = value instead\n",
      "\n",
      "See the caveats in the documentation: https://pandas.pydata.org/pandas-docs/stable/user_guide/indexing.html#returning-a-view-versus-a-copy\n",
      "  non_zeros[decade] = non_zeros['decade'].map(lambda val: create_decade_columns(val, decade))\n"
     ]
    },
    {
     "ename": "FileNotFoundError",
     "evalue": "[Errno 2] No such file or directory: 'year_predictor.sav'",
     "output_type": "error",
     "traceback": [
      "\u001b[0;31m---------------------------------------------------------------------------\u001b[0m",
      "\u001b[0;31mFileNotFoundError\u001b[0m                         Traceback (most recent call last)",
      "\u001b[0;32m<ipython-input-4-659e921285af>\u001b[0m in \u001b[0;36m<module>\u001b[0;34m\u001b[0m\n\u001b[0;32m----> 1\u001b[0;31m \u001b[0mnew_df\u001b[0m \u001b[0;34m=\u001b[0m \u001b[0mfunctions\u001b[0m\u001b[0;34m.\u001b[0m\u001b[0mload_processed_train_df\u001b[0m\u001b[0;34m(\u001b[0m\u001b[0;34m)\u001b[0m\u001b[0;34m\u001b[0m\u001b[0;34m\u001b[0m\u001b[0m\n\u001b[0m",
      "\u001b[0;32m~/flatiron/chi-ds/module_3/week_3/projects/tanzaniawellclassification/src/functions.py\u001b[0m in \u001b[0;36mload_processed_train_df\u001b[0;34m()\u001b[0m\n\u001b[1;32m    215\u001b[0m     \u001b[0mtrain\u001b[0m \u001b[0;34m=\u001b[0m \u001b[0mcombine_waterpoint\u001b[0m\u001b[0;34m(\u001b[0m\u001b[0mtrain\u001b[0m\u001b[0;34m)\u001b[0m\u001b[0;34m\u001b[0m\u001b[0;34m\u001b[0m\u001b[0m\n\u001b[1;32m    216\u001b[0m     \u001b[0mtrain\u001b[0m \u001b[0;34m=\u001b[0m \u001b[0mclean_permit\u001b[0m\u001b[0;34m(\u001b[0m\u001b[0mtrain\u001b[0m\u001b[0;34m)\u001b[0m\u001b[0;34m\u001b[0m\u001b[0;34m\u001b[0m\u001b[0m\n\u001b[0;32m--> 217\u001b[0;31m     \u001b[0mtrain\u001b[0m \u001b[0;34m=\u001b[0m \u001b[0mcreate_decades\u001b[0m\u001b[0;34m(\u001b[0m\u001b[0mtrain\u001b[0m\u001b[0;34m)\u001b[0m\u001b[0;34m\u001b[0m\u001b[0;34m\u001b[0m\u001b[0m\n\u001b[0m\u001b[1;32m    218\u001b[0m \u001b[0;34m\u001b[0m\u001b[0m\n\u001b[1;32m    219\u001b[0m     \u001b[0;31m#Encode and bin region field and drop original region column\u001b[0m\u001b[0;34m\u001b[0m\u001b[0;34m\u001b[0m\u001b[0;34m\u001b[0m\u001b[0m\n",
      "\u001b[0;32m~/flatiron/chi-ds/module_3/week_3/projects/tanzaniawellclassification/src/functions.py\u001b[0m in \u001b[0;36mcreate_decades\u001b[0;34m(df)\u001b[0m\n\u001b[1;32m    608\u001b[0m \u001b[0;34m\u001b[0m\u001b[0m\n\u001b[1;32m    609\u001b[0m \u001b[0;34m\u001b[0m\u001b[0m\n\u001b[0;32m--> 610\u001b[0;31m     \u001b[0mmodel\u001b[0m \u001b[0;34m=\u001b[0m \u001b[0mpickle\u001b[0m\u001b[0;34m.\u001b[0m\u001b[0mload\u001b[0m\u001b[0;34m(\u001b[0m\u001b[0mopen\u001b[0m\u001b[0;34m(\u001b[0m\u001b[0;34m'year_predictor.sav'\u001b[0m\u001b[0;34m,\u001b[0m \u001b[0;34m'rb'\u001b[0m\u001b[0;34m)\u001b[0m\u001b[0;34m)\u001b[0m\u001b[0;34m\u001b[0m\u001b[0;34m\u001b[0m\u001b[0m\n\u001b[0m\u001b[1;32m    611\u001b[0m \u001b[0;34m\u001b[0m\u001b[0m\n\u001b[1;32m    612\u001b[0m     \u001b[0mpredictions_\u001b[0m \u001b[0;34m=\u001b[0m \u001b[0mmodel\u001b[0m\u001b[0;34m.\u001b[0m\u001b[0mpredict_proba\u001b[0m\u001b[0;34m(\u001b[0m\u001b[0mX_test_all_features\u001b[0m\u001b[0;34m)\u001b[0m\u001b[0;34m\u001b[0m\u001b[0;34m\u001b[0m\u001b[0m\n",
      "\u001b[0;31mFileNotFoundError\u001b[0m: [Errno 2] No such file or directory: 'year_predictor.sav'"
     ]
    }
   ],
   "source": [
    "new_df = functions.load_processed_train_df()"
   ]
  },
  {
   "cell_type": "code",
   "execution_count": null,
   "metadata": {},
   "outputs": [],
   "source": [
    "new_df"
   ]
  },
  {
   "cell_type": "code",
   "execution_count": 33,
   "metadata": {},
   "outputs": [
    {
     "data": {
      "text/plain": [
       "True     38852\n",
       "False    17492\n",
       "nan       3056\n",
       "Name: permit, dtype: int64"
      ]
     },
     "execution_count": 33,
     "metadata": {},
     "output_type": "execute_result"
    }
   ],
   "source": [
    "new_df.permit.value_counts()"
   ]
  },
  {
   "cell_type": "code",
   "execution_count": 34,
   "metadata": {},
   "outputs": [],
   "source": [
    "new_df.to_csv('../data/processed_data.csv')"
   ]
  },
  {
   "cell_type": "code",
   "execution_count": 35,
   "metadata": {},
   "outputs": [],
   "source": [
    "df = pd.read_csv('../data/processed_data.csv')"
   ]
  },
  {
   "cell_type": "code",
   "execution_count": 36,
   "metadata": {},
   "outputs": [
    {
     "name": "stdout",
     "output_type": "stream",
     "text": [
      "<class 'pandas.core.frame.DataFrame'>\n",
      "RangeIndex: 59400 entries, 0 to 59399\n",
      "Data columns (total 33 columns):\n",
      " #   Column                        Non-Null Count  Dtype  \n",
      "---  ------                        --------------  -----  \n",
      " 0   Unnamed: 0                    59400 non-null  int64  \n",
      " 1   id                            59400 non-null  int64  \n",
      " 2   amount_tsh                    59400 non-null  float64\n",
      " 3   date_recorded                 59400 non-null  object \n",
      " 4   gps_height                    59400 non-null  int64  \n",
      " 5   longitude                     59400 non-null  float64\n",
      " 6   latitude                      59400 non-null  float64\n",
      " 7   num_private                   59400 non-null  int64  \n",
      " 8   basin                         59400 non-null  object \n",
      " 9   district_code                 59400 non-null  int64  \n",
      " 10  ward                          59400 non-null  object \n",
      " 11  population                    59400 non-null  int64  \n",
      " 12  public_meeting                59400 non-null  object \n",
      " 13  permit                        56344 non-null  string \n",
      " 14  management_group              59400 non-null  object \n",
      " 15  payment                       59400 non-null  object \n",
      " 16  quality_group                 59400 non-null  object \n",
      " 17  quantity                      59400 non-null  object \n",
      " 18  source_type                   59400 non-null  object \n",
      " 19  status_group                  59400 non-null  object \n",
      " 20  status                        59400 non-null  int64  \n",
      " 21  extraction_type/group/class   59400 non-null  object \n",
      " 22  scheme_management/management  59400 non-null  object \n",
      " 23  funder/installer              59400 non-null  object \n",
      " 24  waterpoint_type/group         59400 non-null  object \n",
      " 25  2000-2010                     59400 non-null  float64\n",
      " 26  1990-2000                     59400 non-null  float64\n",
      " 27  1980-1990                     59400 non-null  float64\n",
      " 28  2010-2020                     59400 non-null  float64\n",
      " 29  1970-1980                     59400 non-null  float64\n",
      " 30  1960-1970                     59400 non-null  float64\n",
      " 31  region_bins                   59400 non-null  int64  \n",
      " 32  lga_coded                     59400 non-null  object \n",
      "dtypes: float64(9), int64(8), object(15), string(1)\n",
      "memory usage: 15.0+ MB\n"
     ]
    }
   ],
   "source": [
    "df.info()"
   ]
  },
  {
   "cell_type": "code",
   "execution_count": null,
   "metadata": {},
   "outputs": [],
   "source": [
    "new_df."
   ]
  },
  {
   "cell_type": "code",
   "execution_count": 3,
   "metadata": {},
   "outputs": [
    {
     "name": "stdout",
     "output_type": "stream",
     "text": [
      "<class 'pandas.core.frame.DataFrame'>\n",
      "RangeIndex: 59400 entries, 0 to 59399\n",
      "Data columns (total 33 columns):\n",
      " #   Column                        Non-Null Count  Dtype  \n",
      "---  ------                        --------------  -----  \n",
      " 0   Unnamed: 0                    59400 non-null  int64  \n",
      " 1   id                            59400 non-null  int64  \n",
      " 2   amount_tsh                    59400 non-null  float64\n",
      " 3   date_recorded                 59400 non-null  object \n",
      " 4   gps_height                    59400 non-null  int64  \n",
      " 5   longitude                     59400 non-null  float64\n",
      " 6   latitude                      59400 non-null  float64\n",
      " 7   num_private                   59400 non-null  int64  \n",
      " 8   basin                         59400 non-null  object \n",
      " 9   district_code                 59400 non-null  int64  \n",
      " 10  ward                          59400 non-null  object \n",
      " 11  population                    59400 non-null  int64  \n",
      " 12  public_meeting                59400 non-null  object \n",
      " 13  permit                        56344 non-null  object \n",
      " 14  management_group              59400 non-null  object \n",
      " 15  payment                       59400 non-null  object \n",
      " 16  quality_group                 59400 non-null  object \n",
      " 17  quantity                      59400 non-null  object \n",
      " 18  source_type                   59400 non-null  object \n",
      " 19  status_group                  59400 non-null  object \n",
      " 20  status                        59400 non-null  int64  \n",
      " 21  extraction_type/group/class   59400 non-null  object \n",
      " 22  scheme_management/management  59400 non-null  object \n",
      " 23  funder/installer              59400 non-null  object \n",
      " 24  waterpoint_type/group         59400 non-null  object \n",
      " 25  2000-2010                     59400 non-null  float64\n",
      " 26  1990-2000                     59400 non-null  float64\n",
      " 27  1980-1990                     59400 non-null  float64\n",
      " 28  2010-2020                     59400 non-null  float64\n",
      " 29  1970-1980                     59400 non-null  float64\n",
      " 30  1960-1970                     59400 non-null  float64\n",
      " 31  region_bins                   59400 non-null  int64  \n",
      " 32  lga_coded                     59400 non-null  object \n",
      "dtypes: float64(9), int64(8), object(16)\n",
      "memory usage: 15.0+ MB\n"
     ]
    }
   ],
   "source": [
    "df.info()"
   ]
  },
  {
   "cell_type": "code",
   "execution_count": null,
   "metadata": {},
   "outputs": [],
   "source": []
  }
 ],
 "metadata": {
  "kernelspec": {
   "display_name": "Python 3",
   "language": "python",
   "name": "python3"
  },
  "language_info": {
   "codemirror_mode": {
    "name": "ipython",
    "version": 3
   },
   "file_extension": ".py",
   "mimetype": "text/x-python",
   "name": "python",
   "nbconvert_exporter": "python",
   "pygments_lexer": "ipython3",
   "version": "3.8.2"
  }
 },
 "nbformat": 4,
 "nbformat_minor": 4
}
